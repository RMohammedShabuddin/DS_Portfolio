{
 "cells": [
  {
   "cell_type": "markdown",
   "metadata": {},
   "source": [
    "# Milestone 5: Final Project"
   ]
  },
  {
   "cell_type": "code",
   "execution_count": null,
   "metadata": {},
   "outputs": [],
   "source": []
  },
  {
   "cell_type": "markdown",
   "metadata": {},
   "source": [
    "### Credit card fraud detection"
   ]
  },
  {
   "cell_type": "markdown",
   "metadata": {},
   "source": [
    "Credit card fraud is one of the major problems in financial services. This will cost billions of dollars every year. The United States is the most credit card fraud-prone country in the world. During the pandemic, the number of credit transactions and online shopping has increased, and this results in an increase in the number of credit card fraud activities. Fraudsters always work to find new means to conduct fraud in credit card transactions. Losses to financial institutions can be avoided by detecting credit card fraud and alerting banks about potentially fraudulent transactions. With the available credit card fraud dataset, I will perform some graph analysis to understand the dataset. There could be false positive or false negative fraud detection. We may need to perform scaling on the dataset. I will be using machine learning algorithms to detect fraudulent transactions. Companies like Visa are looking to identify new solutions using artificial intelligence to solve credit card fraud. Having a fraud transaction will create a business impact too. Because the customer will be losing the trust in the financial institution. So, credit card companies need to recognize fraud transitions to keep the customers not charged for wrong items and keep them happy. The Kaggle dataset contains transactions that occurred in 2 days in the month of September 2013. There were 492 fraud transactions out of 284,807. The data set contains principal components obtained with PCA. Using the above dataset, I will perform some graph analysis.\n",
    "\n",
    "<B>Dataset consists of below information:</B>\n",
    "<Li>Columns V1 to V28 are result of Principal Component Analysis (PCA) which has been done due to data compliance.\n",
    "<Li>Amount is the Transaction amount\n",
    "<Li>Class 0 indicates non-fraud and 1 indicates fraud\n",
    "<Li>Time is the time elapsed between each transaction.\n"
   ]
  },
  {
   "cell_type": "code",
   "execution_count": 1,
   "metadata": {},
   "outputs": [],
   "source": [
    "# Load necessary libraries\n",
    "import pandas as pd\n",
    "import numpy as np\n",
    "import matplotlib.pyplot as plt\n",
    "import seaborn as sns\n",
    "from sklearn.model_selection import train_test_split\n",
    "from sklearn.feature_selection import VarianceThreshold\n",
    "from sklearn.feature_selection import SelectKBest\n",
    "from sklearn.feature_selection import f_classif\n",
    "from sklearn import preprocessing\n",
    "\n",
    "from sklearn.preprocessing import StandardScaler\n",
    "from sklearn.pipeline import Pipeline\n",
    "from sklearn.model_selection import cross_val_score\n",
    "from sklearn.model_selection import RepeatedStratifiedKFold\n",
    "from sklearn.metrics import precision_recall_curve\n",
    "from sklearn.metrics import auc, make_scorer\n",
    "from sklearn.tree import DecisionTreeClassifier\n",
    "from sklearn.neighbors import KNeighborsClassifier\n",
    "from sklearn.ensemble import RandomForestClassifier\n",
    "from sklearn.ensemble import ExtraTreesClassifier\n",
    "from sklearn.ensemble import BaggingClassifier\n",
    "from sklearn.linear_model import LogisticRegression\n",
    "from sklearn.model_selection import KFold, cross_val_score\n",
    "from sklearn.metrics import confusion_matrix,precision_recall_curve,auc,roc_auc_score,roc_curve,recall_score\n",
    "from sklearn.metrics import classification_report \n",
    "from sklearn.dummy import DummyClassifier\n",
    "from sklearn.model_selection import train_test_split, StratifiedShuffleSplit, validation_curve, learning_curve, GridSearchCV\n",
    "from sklearn.linear_model import SGDClassifier\n",
    "from sklearn.model_selection import RandomizedSearchCV, GridSearchCV\n",
    "from numpy import mean, std\n",
    "import scikitplot as skplt\n",
    "from sklearn.metrics import log_loss, average_precision_score, make_scorer"
   ]
  },
  {
   "cell_type": "code",
   "execution_count": 2,
   "metadata": {},
   "outputs": [],
   "source": [
    "# Read the csv file from the https://www.kaggle.com/mlg-ulb/creditcardfraud\n",
    "credit_df = pd.read_csv(\"creditcard.csv\")"
   ]
  },
  {
   "cell_type": "code",
   "execution_count": 3,
   "metadata": {},
   "outputs": [
    {
     "data": {
      "text/html": [
       "<div>\n",
       "<style scoped>\n",
       "    .dataframe tbody tr th:only-of-type {\n",
       "        vertical-align: middle;\n",
       "    }\n",
       "\n",
       "    .dataframe tbody tr th {\n",
       "        vertical-align: top;\n",
       "    }\n",
       "\n",
       "    .dataframe thead th {\n",
       "        text-align: right;\n",
       "    }\n",
       "</style>\n",
       "<table border=\"1\" class=\"dataframe\">\n",
       "  <thead>\n",
       "    <tr style=\"text-align: right;\">\n",
       "      <th></th>\n",
       "      <th>Time</th>\n",
       "      <th>V1</th>\n",
       "      <th>V2</th>\n",
       "      <th>V3</th>\n",
       "      <th>V4</th>\n",
       "      <th>V5</th>\n",
       "      <th>V6</th>\n",
       "      <th>V7</th>\n",
       "      <th>V8</th>\n",
       "      <th>V9</th>\n",
       "      <th>...</th>\n",
       "      <th>V21</th>\n",
       "      <th>V22</th>\n",
       "      <th>V23</th>\n",
       "      <th>V24</th>\n",
       "      <th>V25</th>\n",
       "      <th>V26</th>\n",
       "      <th>V27</th>\n",
       "      <th>V28</th>\n",
       "      <th>Amount</th>\n",
       "      <th>Class</th>\n",
       "    </tr>\n",
       "  </thead>\n",
       "  <tbody>\n",
       "    <tr>\n",
       "      <th>0</th>\n",
       "      <td>0.0</td>\n",
       "      <td>-1.359807</td>\n",
       "      <td>-0.072781</td>\n",
       "      <td>2.536347</td>\n",
       "      <td>1.378155</td>\n",
       "      <td>-0.338321</td>\n",
       "      <td>0.462388</td>\n",
       "      <td>0.239599</td>\n",
       "      <td>0.098698</td>\n",
       "      <td>0.363787</td>\n",
       "      <td>...</td>\n",
       "      <td>-0.018307</td>\n",
       "      <td>0.277838</td>\n",
       "      <td>-0.110474</td>\n",
       "      <td>0.066928</td>\n",
       "      <td>0.128539</td>\n",
       "      <td>-0.189115</td>\n",
       "      <td>0.133558</td>\n",
       "      <td>-0.021053</td>\n",
       "      <td>149.62</td>\n",
       "      <td>0</td>\n",
       "    </tr>\n",
       "    <tr>\n",
       "      <th>1</th>\n",
       "      <td>0.0</td>\n",
       "      <td>1.191857</td>\n",
       "      <td>0.266151</td>\n",
       "      <td>0.166480</td>\n",
       "      <td>0.448154</td>\n",
       "      <td>0.060018</td>\n",
       "      <td>-0.082361</td>\n",
       "      <td>-0.078803</td>\n",
       "      <td>0.085102</td>\n",
       "      <td>-0.255425</td>\n",
       "      <td>...</td>\n",
       "      <td>-0.225775</td>\n",
       "      <td>-0.638672</td>\n",
       "      <td>0.101288</td>\n",
       "      <td>-0.339846</td>\n",
       "      <td>0.167170</td>\n",
       "      <td>0.125895</td>\n",
       "      <td>-0.008983</td>\n",
       "      <td>0.014724</td>\n",
       "      <td>2.69</td>\n",
       "      <td>0</td>\n",
       "    </tr>\n",
       "    <tr>\n",
       "      <th>2</th>\n",
       "      <td>1.0</td>\n",
       "      <td>-1.358354</td>\n",
       "      <td>-1.340163</td>\n",
       "      <td>1.773209</td>\n",
       "      <td>0.379780</td>\n",
       "      <td>-0.503198</td>\n",
       "      <td>1.800499</td>\n",
       "      <td>0.791461</td>\n",
       "      <td>0.247676</td>\n",
       "      <td>-1.514654</td>\n",
       "      <td>...</td>\n",
       "      <td>0.247998</td>\n",
       "      <td>0.771679</td>\n",
       "      <td>0.909412</td>\n",
       "      <td>-0.689281</td>\n",
       "      <td>-0.327642</td>\n",
       "      <td>-0.139097</td>\n",
       "      <td>-0.055353</td>\n",
       "      <td>-0.059752</td>\n",
       "      <td>378.66</td>\n",
       "      <td>0</td>\n",
       "    </tr>\n",
       "    <tr>\n",
       "      <th>3</th>\n",
       "      <td>1.0</td>\n",
       "      <td>-0.966272</td>\n",
       "      <td>-0.185226</td>\n",
       "      <td>1.792993</td>\n",
       "      <td>-0.863291</td>\n",
       "      <td>-0.010309</td>\n",
       "      <td>1.247203</td>\n",
       "      <td>0.237609</td>\n",
       "      <td>0.377436</td>\n",
       "      <td>-1.387024</td>\n",
       "      <td>...</td>\n",
       "      <td>-0.108300</td>\n",
       "      <td>0.005274</td>\n",
       "      <td>-0.190321</td>\n",
       "      <td>-1.175575</td>\n",
       "      <td>0.647376</td>\n",
       "      <td>-0.221929</td>\n",
       "      <td>0.062723</td>\n",
       "      <td>0.061458</td>\n",
       "      <td>123.50</td>\n",
       "      <td>0</td>\n",
       "    </tr>\n",
       "    <tr>\n",
       "      <th>4</th>\n",
       "      <td>2.0</td>\n",
       "      <td>-1.158233</td>\n",
       "      <td>0.877737</td>\n",
       "      <td>1.548718</td>\n",
       "      <td>0.403034</td>\n",
       "      <td>-0.407193</td>\n",
       "      <td>0.095921</td>\n",
       "      <td>0.592941</td>\n",
       "      <td>-0.270533</td>\n",
       "      <td>0.817739</td>\n",
       "      <td>...</td>\n",
       "      <td>-0.009431</td>\n",
       "      <td>0.798278</td>\n",
       "      <td>-0.137458</td>\n",
       "      <td>0.141267</td>\n",
       "      <td>-0.206010</td>\n",
       "      <td>0.502292</td>\n",
       "      <td>0.219422</td>\n",
       "      <td>0.215153</td>\n",
       "      <td>69.99</td>\n",
       "      <td>0</td>\n",
       "    </tr>\n",
       "  </tbody>\n",
       "</table>\n",
       "<p>5 rows × 31 columns</p>\n",
       "</div>"
      ],
      "text/plain": [
       "   Time        V1        V2        V3        V4        V5        V6        V7  \\\n",
       "0   0.0 -1.359807 -0.072781  2.536347  1.378155 -0.338321  0.462388  0.239599   \n",
       "1   0.0  1.191857  0.266151  0.166480  0.448154  0.060018 -0.082361 -0.078803   \n",
       "2   1.0 -1.358354 -1.340163  1.773209  0.379780 -0.503198  1.800499  0.791461   \n",
       "3   1.0 -0.966272 -0.185226  1.792993 -0.863291 -0.010309  1.247203  0.237609   \n",
       "4   2.0 -1.158233  0.877737  1.548718  0.403034 -0.407193  0.095921  0.592941   \n",
       "\n",
       "         V8        V9  ...       V21       V22       V23       V24       V25  \\\n",
       "0  0.098698  0.363787  ... -0.018307  0.277838 -0.110474  0.066928  0.128539   \n",
       "1  0.085102 -0.255425  ... -0.225775 -0.638672  0.101288 -0.339846  0.167170   \n",
       "2  0.247676 -1.514654  ...  0.247998  0.771679  0.909412 -0.689281 -0.327642   \n",
       "3  0.377436 -1.387024  ... -0.108300  0.005274 -0.190321 -1.175575  0.647376   \n",
       "4 -0.270533  0.817739  ... -0.009431  0.798278 -0.137458  0.141267 -0.206010   \n",
       "\n",
       "        V26       V27       V28  Amount  Class  \n",
       "0 -0.189115  0.133558 -0.021053  149.62      0  \n",
       "1  0.125895 -0.008983  0.014724    2.69      0  \n",
       "2 -0.139097 -0.055353 -0.059752  378.66      0  \n",
       "3 -0.221929  0.062723  0.061458  123.50      0  \n",
       "4  0.502292  0.219422  0.215153   69.99      0  \n",
       "\n",
       "[5 rows x 31 columns]"
      ]
     },
     "execution_count": 3,
     "metadata": {},
     "output_type": "execute_result"
    }
   ],
   "source": [
    "# Few records of the dataframe\n",
    "credit_df.head()"
   ]
  },
  {
   "cell_type": "code",
   "execution_count": 4,
   "metadata": {},
   "outputs": [
    {
     "data": {
      "text/plain": [
       "(284807, 31)"
      ]
     },
     "execution_count": 4,
     "metadata": {},
     "output_type": "execute_result"
    }
   ],
   "source": [
    "# The dimension of the dataframe.\n",
    "credit_df.shape"
   ]
  },
  {
   "cell_type": "code",
   "execution_count": 5,
   "metadata": {},
   "outputs": [
    {
     "data": {
      "text/html": [
       "<div>\n",
       "<style scoped>\n",
       "    .dataframe tbody tr th:only-of-type {\n",
       "        vertical-align: middle;\n",
       "    }\n",
       "\n",
       "    .dataframe tbody tr th {\n",
       "        vertical-align: top;\n",
       "    }\n",
       "\n",
       "    .dataframe thead th {\n",
       "        text-align: right;\n",
       "    }\n",
       "</style>\n",
       "<table border=\"1\" class=\"dataframe\">\n",
       "  <thead>\n",
       "    <tr style=\"text-align: right;\">\n",
       "      <th></th>\n",
       "      <th>Time</th>\n",
       "      <th>V1</th>\n",
       "      <th>V2</th>\n",
       "      <th>V3</th>\n",
       "      <th>V4</th>\n",
       "      <th>V5</th>\n",
       "      <th>V6</th>\n",
       "      <th>V7</th>\n",
       "      <th>V8</th>\n",
       "      <th>V9</th>\n",
       "      <th>...</th>\n",
       "      <th>V21</th>\n",
       "      <th>V22</th>\n",
       "      <th>V23</th>\n",
       "      <th>V24</th>\n",
       "      <th>V25</th>\n",
       "      <th>V26</th>\n",
       "      <th>V27</th>\n",
       "      <th>V28</th>\n",
       "      <th>Amount</th>\n",
       "      <th>Class</th>\n",
       "    </tr>\n",
       "  </thead>\n",
       "  <tbody>\n",
       "    <tr>\n",
       "      <th>count</th>\n",
       "      <td>284807.000000</td>\n",
       "      <td>2.848070e+05</td>\n",
       "      <td>2.848070e+05</td>\n",
       "      <td>2.848070e+05</td>\n",
       "      <td>2.848070e+05</td>\n",
       "      <td>2.848070e+05</td>\n",
       "      <td>2.848070e+05</td>\n",
       "      <td>2.848070e+05</td>\n",
       "      <td>2.848070e+05</td>\n",
       "      <td>2.848070e+05</td>\n",
       "      <td>...</td>\n",
       "      <td>2.848070e+05</td>\n",
       "      <td>2.848070e+05</td>\n",
       "      <td>2.848070e+05</td>\n",
       "      <td>2.848070e+05</td>\n",
       "      <td>2.848070e+05</td>\n",
       "      <td>2.848070e+05</td>\n",
       "      <td>2.848070e+05</td>\n",
       "      <td>2.848070e+05</td>\n",
       "      <td>284807.000000</td>\n",
       "      <td>284807.000000</td>\n",
       "    </tr>\n",
       "    <tr>\n",
       "      <th>mean</th>\n",
       "      <td>94813.859575</td>\n",
       "      <td>3.919560e-15</td>\n",
       "      <td>5.688174e-16</td>\n",
       "      <td>-8.769071e-15</td>\n",
       "      <td>2.782312e-15</td>\n",
       "      <td>-1.552563e-15</td>\n",
       "      <td>2.010663e-15</td>\n",
       "      <td>-1.694249e-15</td>\n",
       "      <td>-1.927028e-16</td>\n",
       "      <td>-3.137024e-15</td>\n",
       "      <td>...</td>\n",
       "      <td>1.537294e-16</td>\n",
       "      <td>7.959909e-16</td>\n",
       "      <td>5.367590e-16</td>\n",
       "      <td>4.458112e-15</td>\n",
       "      <td>1.453003e-15</td>\n",
       "      <td>1.699104e-15</td>\n",
       "      <td>-3.660161e-16</td>\n",
       "      <td>-1.206049e-16</td>\n",
       "      <td>88.349619</td>\n",
       "      <td>0.001727</td>\n",
       "    </tr>\n",
       "    <tr>\n",
       "      <th>std</th>\n",
       "      <td>47488.145955</td>\n",
       "      <td>1.958696e+00</td>\n",
       "      <td>1.651309e+00</td>\n",
       "      <td>1.516255e+00</td>\n",
       "      <td>1.415869e+00</td>\n",
       "      <td>1.380247e+00</td>\n",
       "      <td>1.332271e+00</td>\n",
       "      <td>1.237094e+00</td>\n",
       "      <td>1.194353e+00</td>\n",
       "      <td>1.098632e+00</td>\n",
       "      <td>...</td>\n",
       "      <td>7.345240e-01</td>\n",
       "      <td>7.257016e-01</td>\n",
       "      <td>6.244603e-01</td>\n",
       "      <td>6.056471e-01</td>\n",
       "      <td>5.212781e-01</td>\n",
       "      <td>4.822270e-01</td>\n",
       "      <td>4.036325e-01</td>\n",
       "      <td>3.300833e-01</td>\n",
       "      <td>250.120109</td>\n",
       "      <td>0.041527</td>\n",
       "    </tr>\n",
       "    <tr>\n",
       "      <th>min</th>\n",
       "      <td>0.000000</td>\n",
       "      <td>-5.640751e+01</td>\n",
       "      <td>-7.271573e+01</td>\n",
       "      <td>-4.832559e+01</td>\n",
       "      <td>-5.683171e+00</td>\n",
       "      <td>-1.137433e+02</td>\n",
       "      <td>-2.616051e+01</td>\n",
       "      <td>-4.355724e+01</td>\n",
       "      <td>-7.321672e+01</td>\n",
       "      <td>-1.343407e+01</td>\n",
       "      <td>...</td>\n",
       "      <td>-3.483038e+01</td>\n",
       "      <td>-1.093314e+01</td>\n",
       "      <td>-4.480774e+01</td>\n",
       "      <td>-2.836627e+00</td>\n",
       "      <td>-1.029540e+01</td>\n",
       "      <td>-2.604551e+00</td>\n",
       "      <td>-2.256568e+01</td>\n",
       "      <td>-1.543008e+01</td>\n",
       "      <td>0.000000</td>\n",
       "      <td>0.000000</td>\n",
       "    </tr>\n",
       "    <tr>\n",
       "      <th>25%</th>\n",
       "      <td>54201.500000</td>\n",
       "      <td>-9.203734e-01</td>\n",
       "      <td>-5.985499e-01</td>\n",
       "      <td>-8.903648e-01</td>\n",
       "      <td>-8.486401e-01</td>\n",
       "      <td>-6.915971e-01</td>\n",
       "      <td>-7.682956e-01</td>\n",
       "      <td>-5.540759e-01</td>\n",
       "      <td>-2.086297e-01</td>\n",
       "      <td>-6.430976e-01</td>\n",
       "      <td>...</td>\n",
       "      <td>-2.283949e-01</td>\n",
       "      <td>-5.423504e-01</td>\n",
       "      <td>-1.618463e-01</td>\n",
       "      <td>-3.545861e-01</td>\n",
       "      <td>-3.171451e-01</td>\n",
       "      <td>-3.269839e-01</td>\n",
       "      <td>-7.083953e-02</td>\n",
       "      <td>-5.295979e-02</td>\n",
       "      <td>5.600000</td>\n",
       "      <td>0.000000</td>\n",
       "    </tr>\n",
       "    <tr>\n",
       "      <th>50%</th>\n",
       "      <td>84692.000000</td>\n",
       "      <td>1.810880e-02</td>\n",
       "      <td>6.548556e-02</td>\n",
       "      <td>1.798463e-01</td>\n",
       "      <td>-1.984653e-02</td>\n",
       "      <td>-5.433583e-02</td>\n",
       "      <td>-2.741871e-01</td>\n",
       "      <td>4.010308e-02</td>\n",
       "      <td>2.235804e-02</td>\n",
       "      <td>-5.142873e-02</td>\n",
       "      <td>...</td>\n",
       "      <td>-2.945017e-02</td>\n",
       "      <td>6.781943e-03</td>\n",
       "      <td>-1.119293e-02</td>\n",
       "      <td>4.097606e-02</td>\n",
       "      <td>1.659350e-02</td>\n",
       "      <td>-5.213911e-02</td>\n",
       "      <td>1.342146e-03</td>\n",
       "      <td>1.124383e-02</td>\n",
       "      <td>22.000000</td>\n",
       "      <td>0.000000</td>\n",
       "    </tr>\n",
       "    <tr>\n",
       "      <th>75%</th>\n",
       "      <td>139320.500000</td>\n",
       "      <td>1.315642e+00</td>\n",
       "      <td>8.037239e-01</td>\n",
       "      <td>1.027196e+00</td>\n",
       "      <td>7.433413e-01</td>\n",
       "      <td>6.119264e-01</td>\n",
       "      <td>3.985649e-01</td>\n",
       "      <td>5.704361e-01</td>\n",
       "      <td>3.273459e-01</td>\n",
       "      <td>5.971390e-01</td>\n",
       "      <td>...</td>\n",
       "      <td>1.863772e-01</td>\n",
       "      <td>5.285536e-01</td>\n",
       "      <td>1.476421e-01</td>\n",
       "      <td>4.395266e-01</td>\n",
       "      <td>3.507156e-01</td>\n",
       "      <td>2.409522e-01</td>\n",
       "      <td>9.104512e-02</td>\n",
       "      <td>7.827995e-02</td>\n",
       "      <td>77.165000</td>\n",
       "      <td>0.000000</td>\n",
       "    </tr>\n",
       "    <tr>\n",
       "      <th>max</th>\n",
       "      <td>172792.000000</td>\n",
       "      <td>2.454930e+00</td>\n",
       "      <td>2.205773e+01</td>\n",
       "      <td>9.382558e+00</td>\n",
       "      <td>1.687534e+01</td>\n",
       "      <td>3.480167e+01</td>\n",
       "      <td>7.330163e+01</td>\n",
       "      <td>1.205895e+02</td>\n",
       "      <td>2.000721e+01</td>\n",
       "      <td>1.559499e+01</td>\n",
       "      <td>...</td>\n",
       "      <td>2.720284e+01</td>\n",
       "      <td>1.050309e+01</td>\n",
       "      <td>2.252841e+01</td>\n",
       "      <td>4.584549e+00</td>\n",
       "      <td>7.519589e+00</td>\n",
       "      <td>3.517346e+00</td>\n",
       "      <td>3.161220e+01</td>\n",
       "      <td>3.384781e+01</td>\n",
       "      <td>25691.160000</td>\n",
       "      <td>1.000000</td>\n",
       "    </tr>\n",
       "  </tbody>\n",
       "</table>\n",
       "<p>8 rows × 31 columns</p>\n",
       "</div>"
      ],
      "text/plain": [
       "                Time            V1            V2            V3            V4  \\\n",
       "count  284807.000000  2.848070e+05  2.848070e+05  2.848070e+05  2.848070e+05   \n",
       "mean    94813.859575  3.919560e-15  5.688174e-16 -8.769071e-15  2.782312e-15   \n",
       "std     47488.145955  1.958696e+00  1.651309e+00  1.516255e+00  1.415869e+00   \n",
       "min         0.000000 -5.640751e+01 -7.271573e+01 -4.832559e+01 -5.683171e+00   \n",
       "25%     54201.500000 -9.203734e-01 -5.985499e-01 -8.903648e-01 -8.486401e-01   \n",
       "50%     84692.000000  1.810880e-02  6.548556e-02  1.798463e-01 -1.984653e-02   \n",
       "75%    139320.500000  1.315642e+00  8.037239e-01  1.027196e+00  7.433413e-01   \n",
       "max    172792.000000  2.454930e+00  2.205773e+01  9.382558e+00  1.687534e+01   \n",
       "\n",
       "                 V5            V6            V7            V8            V9  \\\n",
       "count  2.848070e+05  2.848070e+05  2.848070e+05  2.848070e+05  2.848070e+05   \n",
       "mean  -1.552563e-15  2.010663e-15 -1.694249e-15 -1.927028e-16 -3.137024e-15   \n",
       "std    1.380247e+00  1.332271e+00  1.237094e+00  1.194353e+00  1.098632e+00   \n",
       "min   -1.137433e+02 -2.616051e+01 -4.355724e+01 -7.321672e+01 -1.343407e+01   \n",
       "25%   -6.915971e-01 -7.682956e-01 -5.540759e-01 -2.086297e-01 -6.430976e-01   \n",
       "50%   -5.433583e-02 -2.741871e-01  4.010308e-02  2.235804e-02 -5.142873e-02   \n",
       "75%    6.119264e-01  3.985649e-01  5.704361e-01  3.273459e-01  5.971390e-01   \n",
       "max    3.480167e+01  7.330163e+01  1.205895e+02  2.000721e+01  1.559499e+01   \n",
       "\n",
       "       ...           V21           V22           V23           V24  \\\n",
       "count  ...  2.848070e+05  2.848070e+05  2.848070e+05  2.848070e+05   \n",
       "mean   ...  1.537294e-16  7.959909e-16  5.367590e-16  4.458112e-15   \n",
       "std    ...  7.345240e-01  7.257016e-01  6.244603e-01  6.056471e-01   \n",
       "min    ... -3.483038e+01 -1.093314e+01 -4.480774e+01 -2.836627e+00   \n",
       "25%    ... -2.283949e-01 -5.423504e-01 -1.618463e-01 -3.545861e-01   \n",
       "50%    ... -2.945017e-02  6.781943e-03 -1.119293e-02  4.097606e-02   \n",
       "75%    ...  1.863772e-01  5.285536e-01  1.476421e-01  4.395266e-01   \n",
       "max    ...  2.720284e+01  1.050309e+01  2.252841e+01  4.584549e+00   \n",
       "\n",
       "                V25           V26           V27           V28         Amount  \\\n",
       "count  2.848070e+05  2.848070e+05  2.848070e+05  2.848070e+05  284807.000000   \n",
       "mean   1.453003e-15  1.699104e-15 -3.660161e-16 -1.206049e-16      88.349619   \n",
       "std    5.212781e-01  4.822270e-01  4.036325e-01  3.300833e-01     250.120109   \n",
       "min   -1.029540e+01 -2.604551e+00 -2.256568e+01 -1.543008e+01       0.000000   \n",
       "25%   -3.171451e-01 -3.269839e-01 -7.083953e-02 -5.295979e-02       5.600000   \n",
       "50%    1.659350e-02 -5.213911e-02  1.342146e-03  1.124383e-02      22.000000   \n",
       "75%    3.507156e-01  2.409522e-01  9.104512e-02  7.827995e-02      77.165000   \n",
       "max    7.519589e+00  3.517346e+00  3.161220e+01  3.384781e+01   25691.160000   \n",
       "\n",
       "               Class  \n",
       "count  284807.000000  \n",
       "mean        0.001727  \n",
       "std         0.041527  \n",
       "min         0.000000  \n",
       "25%         0.000000  \n",
       "50%         0.000000  \n",
       "75%         0.000000  \n",
       "max         1.000000  \n",
       "\n",
       "[8 rows x 31 columns]"
      ]
     },
     "execution_count": 5,
     "metadata": {},
     "output_type": "execute_result"
    }
   ],
   "source": [
    "# describe the dataframe.\n",
    "credit_df.describe()"
   ]
  },
  {
   "cell_type": "code",
   "execution_count": 6,
   "metadata": {},
   "outputs": [
    {
     "data": {
      "text/plain": [
       "Time      0\n",
       "V1        0\n",
       "V2        0\n",
       "V3        0\n",
       "V4        0\n",
       "V5        0\n",
       "V6        0\n",
       "V7        0\n",
       "V8        0\n",
       "V9        0\n",
       "V10       0\n",
       "V11       0\n",
       "V12       0\n",
       "V13       0\n",
       "V14       0\n",
       "V15       0\n",
       "V16       0\n",
       "V17       0\n",
       "V18       0\n",
       "V19       0\n",
       "V20       0\n",
       "V21       0\n",
       "V22       0\n",
       "V23       0\n",
       "V24       0\n",
       "V25       0\n",
       "V26       0\n",
       "V27       0\n",
       "V28       0\n",
       "Amount    0\n",
       "Class     0\n",
       "dtype: int64"
      ]
     },
     "execution_count": 6,
     "metadata": {},
     "output_type": "execute_result"
    }
   ],
   "source": [
    "# Check if any missing values using the isnull function\n",
    "credit_df.isnull().sum()"
   ]
  },
  {
   "cell_type": "code",
   "execution_count": 7,
   "metadata": {},
   "outputs": [
    {
     "data": {
      "text/plain": [
       "Time      0\n",
       "V1        0\n",
       "V2        0\n",
       "V3        0\n",
       "V4        0\n",
       "V5        0\n",
       "V6        0\n",
       "V7        0\n",
       "V8        0\n",
       "V9        0\n",
       "V10       0\n",
       "V11       0\n",
       "V12       0\n",
       "V13       0\n",
       "V14       0\n",
       "V15       0\n",
       "V16       0\n",
       "V17       0\n",
       "V18       0\n",
       "V19       0\n",
       "V20       0\n",
       "V21       0\n",
       "V22       0\n",
       "V23       0\n",
       "V24       0\n",
       "V25       0\n",
       "V26       0\n",
       "V27       0\n",
       "V28       0\n",
       "Amount    0\n",
       "Class     0\n",
       "dtype: int64"
      ]
     },
     "execution_count": 7,
     "metadata": {},
     "output_type": "execute_result"
    }
   ],
   "source": [
    "# Check if any missing values using the isna function\n",
    "credit_df.isna().sum()"
   ]
  },
  {
   "cell_type": "code",
   "execution_count": 8,
   "metadata": {},
   "outputs": [],
   "source": [
    "credit_df['Fraud_or_Not']=credit_df['Class']\n",
    "credit_df['Fraud_or_Not'].replace({1:'Fraud',0:'Not a Fraud'}, inplace = True)"
   ]
  },
  {
   "cell_type": "code",
   "execution_count": 9,
   "metadata": {},
   "outputs": [
    {
     "data": {
      "text/html": [
       "<div>\n",
       "<style scoped>\n",
       "    .dataframe tbody tr th:only-of-type {\n",
       "        vertical-align: middle;\n",
       "    }\n",
       "\n",
       "    .dataframe tbody tr th {\n",
       "        vertical-align: top;\n",
       "    }\n",
       "\n",
       "    .dataframe thead th {\n",
       "        text-align: right;\n",
       "    }\n",
       "</style>\n",
       "<table border=\"1\" class=\"dataframe\">\n",
       "  <thead>\n",
       "    <tr style=\"text-align: right;\">\n",
       "      <th></th>\n",
       "      <th>Time</th>\n",
       "      <th>V1</th>\n",
       "      <th>V2</th>\n",
       "      <th>V3</th>\n",
       "      <th>V4</th>\n",
       "      <th>V5</th>\n",
       "      <th>V6</th>\n",
       "      <th>V7</th>\n",
       "      <th>V8</th>\n",
       "      <th>V9</th>\n",
       "      <th>...</th>\n",
       "      <th>V22</th>\n",
       "      <th>V23</th>\n",
       "      <th>V24</th>\n",
       "      <th>V25</th>\n",
       "      <th>V26</th>\n",
       "      <th>V27</th>\n",
       "      <th>V28</th>\n",
       "      <th>Amount</th>\n",
       "      <th>Class</th>\n",
       "      <th>Fraud_or_Not</th>\n",
       "    </tr>\n",
       "  </thead>\n",
       "  <tbody>\n",
       "    <tr>\n",
       "      <th>0</th>\n",
       "      <td>0.0</td>\n",
       "      <td>-1.359807</td>\n",
       "      <td>-0.072781</td>\n",
       "      <td>2.536347</td>\n",
       "      <td>1.378155</td>\n",
       "      <td>-0.338321</td>\n",
       "      <td>0.462388</td>\n",
       "      <td>0.239599</td>\n",
       "      <td>0.098698</td>\n",
       "      <td>0.363787</td>\n",
       "      <td>...</td>\n",
       "      <td>0.277838</td>\n",
       "      <td>-0.110474</td>\n",
       "      <td>0.066928</td>\n",
       "      <td>0.128539</td>\n",
       "      <td>-0.189115</td>\n",
       "      <td>0.133558</td>\n",
       "      <td>-0.021053</td>\n",
       "      <td>149.62</td>\n",
       "      <td>0</td>\n",
       "      <td>Not a Fraud</td>\n",
       "    </tr>\n",
       "    <tr>\n",
       "      <th>1</th>\n",
       "      <td>0.0</td>\n",
       "      <td>1.191857</td>\n",
       "      <td>0.266151</td>\n",
       "      <td>0.166480</td>\n",
       "      <td>0.448154</td>\n",
       "      <td>0.060018</td>\n",
       "      <td>-0.082361</td>\n",
       "      <td>-0.078803</td>\n",
       "      <td>0.085102</td>\n",
       "      <td>-0.255425</td>\n",
       "      <td>...</td>\n",
       "      <td>-0.638672</td>\n",
       "      <td>0.101288</td>\n",
       "      <td>-0.339846</td>\n",
       "      <td>0.167170</td>\n",
       "      <td>0.125895</td>\n",
       "      <td>-0.008983</td>\n",
       "      <td>0.014724</td>\n",
       "      <td>2.69</td>\n",
       "      <td>0</td>\n",
       "      <td>Not a Fraud</td>\n",
       "    </tr>\n",
       "    <tr>\n",
       "      <th>2</th>\n",
       "      <td>1.0</td>\n",
       "      <td>-1.358354</td>\n",
       "      <td>-1.340163</td>\n",
       "      <td>1.773209</td>\n",
       "      <td>0.379780</td>\n",
       "      <td>-0.503198</td>\n",
       "      <td>1.800499</td>\n",
       "      <td>0.791461</td>\n",
       "      <td>0.247676</td>\n",
       "      <td>-1.514654</td>\n",
       "      <td>...</td>\n",
       "      <td>0.771679</td>\n",
       "      <td>0.909412</td>\n",
       "      <td>-0.689281</td>\n",
       "      <td>-0.327642</td>\n",
       "      <td>-0.139097</td>\n",
       "      <td>-0.055353</td>\n",
       "      <td>-0.059752</td>\n",
       "      <td>378.66</td>\n",
       "      <td>0</td>\n",
       "      <td>Not a Fraud</td>\n",
       "    </tr>\n",
       "    <tr>\n",
       "      <th>3</th>\n",
       "      <td>1.0</td>\n",
       "      <td>-0.966272</td>\n",
       "      <td>-0.185226</td>\n",
       "      <td>1.792993</td>\n",
       "      <td>-0.863291</td>\n",
       "      <td>-0.010309</td>\n",
       "      <td>1.247203</td>\n",
       "      <td>0.237609</td>\n",
       "      <td>0.377436</td>\n",
       "      <td>-1.387024</td>\n",
       "      <td>...</td>\n",
       "      <td>0.005274</td>\n",
       "      <td>-0.190321</td>\n",
       "      <td>-1.175575</td>\n",
       "      <td>0.647376</td>\n",
       "      <td>-0.221929</td>\n",
       "      <td>0.062723</td>\n",
       "      <td>0.061458</td>\n",
       "      <td>123.50</td>\n",
       "      <td>0</td>\n",
       "      <td>Not a Fraud</td>\n",
       "    </tr>\n",
       "    <tr>\n",
       "      <th>4</th>\n",
       "      <td>2.0</td>\n",
       "      <td>-1.158233</td>\n",
       "      <td>0.877737</td>\n",
       "      <td>1.548718</td>\n",
       "      <td>0.403034</td>\n",
       "      <td>-0.407193</td>\n",
       "      <td>0.095921</td>\n",
       "      <td>0.592941</td>\n",
       "      <td>-0.270533</td>\n",
       "      <td>0.817739</td>\n",
       "      <td>...</td>\n",
       "      <td>0.798278</td>\n",
       "      <td>-0.137458</td>\n",
       "      <td>0.141267</td>\n",
       "      <td>-0.206010</td>\n",
       "      <td>0.502292</td>\n",
       "      <td>0.219422</td>\n",
       "      <td>0.215153</td>\n",
       "      <td>69.99</td>\n",
       "      <td>0</td>\n",
       "      <td>Not a Fraud</td>\n",
       "    </tr>\n",
       "  </tbody>\n",
       "</table>\n",
       "<p>5 rows × 32 columns</p>\n",
       "</div>"
      ],
      "text/plain": [
       "   Time        V1        V2        V3        V4        V5        V6        V7  \\\n",
       "0   0.0 -1.359807 -0.072781  2.536347  1.378155 -0.338321  0.462388  0.239599   \n",
       "1   0.0  1.191857  0.266151  0.166480  0.448154  0.060018 -0.082361 -0.078803   \n",
       "2   1.0 -1.358354 -1.340163  1.773209  0.379780 -0.503198  1.800499  0.791461   \n",
       "3   1.0 -0.966272 -0.185226  1.792993 -0.863291 -0.010309  1.247203  0.237609   \n",
       "4   2.0 -1.158233  0.877737  1.548718  0.403034 -0.407193  0.095921  0.592941   \n",
       "\n",
       "         V8        V9  ...       V22       V23       V24       V25       V26  \\\n",
       "0  0.098698  0.363787  ...  0.277838 -0.110474  0.066928  0.128539 -0.189115   \n",
       "1  0.085102 -0.255425  ... -0.638672  0.101288 -0.339846  0.167170  0.125895   \n",
       "2  0.247676 -1.514654  ...  0.771679  0.909412 -0.689281 -0.327642 -0.139097   \n",
       "3  0.377436 -1.387024  ...  0.005274 -0.190321 -1.175575  0.647376 -0.221929   \n",
       "4 -0.270533  0.817739  ...  0.798278 -0.137458  0.141267 -0.206010  0.502292   \n",
       "\n",
       "        V27       V28  Amount  Class  Fraud_or_Not  \n",
       "0  0.133558 -0.021053  149.62      0   Not a Fraud  \n",
       "1 -0.008983  0.014724    2.69      0   Not a Fraud  \n",
       "2 -0.055353 -0.059752  378.66      0   Not a Fraud  \n",
       "3  0.062723  0.061458  123.50      0   Not a Fraud  \n",
       "4  0.219422  0.215153   69.99      0   Not a Fraud  \n",
       "\n",
       "[5 rows x 32 columns]"
      ]
     },
     "execution_count": 9,
     "metadata": {},
     "output_type": "execute_result"
    }
   ],
   "source": [
    "credit_df.head()"
   ]
  },
  {
   "cell_type": "code",
   "execution_count": 10,
   "metadata": {},
   "outputs": [
    {
     "data": {
      "image/png": "[encoded data removed]",
      "text/plain": [
       "<Figure size 432x288 with 1 Axes>"
      ]
     },
     "metadata": {},
     "output_type": "display_data"
    }
   ],
   "source": [
    "# Graphical Analysis\n",
    "#Pie chart to check for the percentage of Fraud transactions in the dataframe\n",
    "Fraud_grouped = credit_df['Fraud_or_Not'].value_counts().reset_index()\n",
    "Fraud_grouped = Fraud_grouped.rename(columns = {'Fraud_or_Not' : \"count\", \"index\" : 'Fraud_or_Not'})\n",
    "\n",
    "labels = Fraud_grouped['Fraud_or_Not']\n",
    "sizes = Fraud_grouped['count']\n",
    "colors = ['#add8e6', '#ff0000']\n",
    "fig, ax = plt.subplots()\n",
    "ax.pie(sizes, labels=labels, autopct='%1.2f%%', shadow=True, explode= (0.25, 0.0),colors=colors)\n",
    "ax.axis('equal')\n",
    "\n",
    "plt.show()"
   ]
  },
  {
   "cell_type": "markdown",
   "metadata": {},
   "source": [
    "There are only 0.17% of transactions in the entire dataset as fraud."
   ]
  },
  {
   "cell_type": "code",
   "execution_count": 11,
   "metadata": {},
   "outputs": [
    {
     "data": {
      "text/plain": [
       "Text(0.5, 1.0, 'Number of Fraud and Non Fraud Transactions')"
      ]
     },
     "execution_count": 11,
     "metadata": {},
     "output_type": "execute_result"
    },
    {
     "data": {
      "image/png": "[encoded data removed]",
      "text/plain": [
       "<Figure size 360x504 with 1 Axes>"
      ]
     },
     "metadata": {
      "needs_background": "light"
     },
     "output_type": "display_data"
    }
   ],
   "source": [
    "# Bar plot of count of fraud vs non-fraud transactions in the dataset\n",
    "plt.rcParams['figure.figsize']=[5,7]\n",
    "sns.countplot('Fraud_or_Not', data=credit_df, palette=['#add8e6','#ff8899'])\n",
    "plt.title('Number of Fraud and Non Fraud Transactions', fontsize=14)"
   ]
  },
  {
   "cell_type": "markdown",
   "metadata": {},
   "source": [
    "The Fraud transactions are very minimum when compared to the Not a fraud transactions."
   ]
  },
  {
   "cell_type": "code",
   "execution_count": 12,
   "metadata": {},
   "outputs": [],
   "source": [
    "# Save fraud and non-fraud data in different dataframes\n",
    "fraud_trans_df = credit_df[credit_df.Fraud_or_Not == 'Fraud']\n",
    "non_fraud_trans_df = credit_df[credit_df.Fraud_or_Not == 'Not a Fraud']"
   ]
  },
  {
   "cell_type": "code",
   "execution_count": 13,
   "metadata": {},
   "outputs": [
    {
     "data": {
      "image/png": "[encoded data removed]",
      "text/plain": [
       "<Figure size 360x504 with 2 Axes>"
      ]
     },
     "metadata": {
      "needs_background": "light"
     },
     "output_type": "display_data"
    }
   ],
   "source": [
    "# Historgram with Fraud_or_Not and Amount\n",
    "f, (ax1, ax2) = plt.subplots(1,2,sharex=False)\n",
    "f.suptitle('Amounts per transaction')\n",
    "\n",
    "ax2.hist(non_fraud_trans_df.Amount, color='#add8e6')\n",
    "ax2.set_title('Non-Fraud records')\n",
    "\n",
    "ax1.hist(fraud_trans_df.Amount, color='#ff8899')\n",
    "ax1.set_title('Fraud records')\n",
    "\n",
    "plt.xlabel('Amount')\n",
    "plt.ylabel('Total Number of Transactions')\n",
    "plt.rcParams['figure.figsize']=[10,7]\n",
    "plt.xlim((0, 15000))\n",
    "plt.yscale('log')\n",
    "\n",
    "plt.show()"
   ]
  },
  {
   "cell_type": "code",
   "execution_count": 14,
   "metadata": {},
   "outputs": [
    {
     "data": {
      "text/plain": [
       "<matplotlib.legend.Legend at 0x1cc098782e0>"
      ]
     },
     "execution_count": 14,
     "metadata": {},
     "output_type": "execute_result"
    },
    {
     "data": {
      "image/png": "[encoded data removed]",
      "text/plain": [
       "<Figure size 864x720 with 2 Axes>"
      ]
     },
     "metadata": {
      "needs_background": "light"
     },
     "output_type": "display_data"
    }
   ],
   "source": [
    "# Histogram of transaction times in fradulent and non-fradulent transactions\n",
    "plt.figure(figsize=(12, 10))\n",
    "\n",
    "plt.subplot(2, 2, 1)\n",
    "fraud_trans_df.Time.hist(bins=35, color='#ff8899', alpha=0.6, label=\"Fradulent transaction times\")\n",
    "plt.xticks(rotation=45)\n",
    "plt.legend()\n",
    "\n",
    "plt.subplot(2, 2, 2)\n",
    "non_fraud_trans_df.Time.hist(bins=35, color='#add8e6', alpha=0.6, label=\"Non-fradulent transaction times\")\n",
    "plt.xticks(rotation=45)\n",
    "plt.legend()"
   ]
  },
  {
   "cell_type": "markdown",
   "metadata": {},
   "source": [
    "Above graphs shows, fradulent transaction has couple of peaks but it can be observed that time of the trasaction cannot be considered in the analysis to determine the transaction is fraudlent."
   ]
  },
  {
   "cell_type": "code",
   "execution_count": 55,
   "metadata": {},
   "outputs": [
    {
     "data": {
      "image/png": "[encoded data removed]",
      "text/plain": [
       "<Figure size 1440x504 with 2 Axes>"
      ]
     },
     "metadata": {
      "needs_background": "light"
     },
     "output_type": "display_data"
    }
   ],
   "source": [
    "# Scatter plot between the time and Amount\n",
    "f, (ax1, ax2) = plt.subplots(1, 2, sharex=False)\n",
    "f.suptitle('Time of transaction vs Amount')\n",
    "\n",
    "ax1.scatter(fraud_trans_df.Time, fraud_trans_df.Amount, color='#ff8899',marker='^')\n",
    "ax1.set_title('Fraud')\n",
    "\n",
    "ax2.scatter(non_fraud_trans_df.Time, non_fraud_trans_df.Amount, color='#add8e6',marker='v')\n",
    "ax2.set_title('Not a Fraud')\n",
    "\n",
    "plt.xlabel('Time in seconds')\n",
    "plt.ylabel('Amount')\n",
    "plt.rcParams['figure.figsize']=[20,10]\n",
    "plt.show()"
   ]
  },
  {
   "cell_type": "code",
   "execution_count": 16,
   "metadata": {},
   "outputs": [],
   "source": [
    "# Renaming the Not a Fraud and Fraud with 0 and 1 respectively. \n",
    "credit_df['Fraud_or_Not'].replace({'Not a Fraud': '0', 'Fraud': '1'}, inplace = True)"
   ]
  },
  {
   "cell_type": "code",
   "execution_count": 17,
   "metadata": {},
   "outputs": [],
   "source": [
    "# Train and test data\n",
    "X=credit_df.drop(columns=[\"Time\",\"Class\"],axis=\"columns\")\n",
    "y=credit_df.Class"
   ]
  },
  {
   "cell_type": "code",
   "execution_count": 18,
   "metadata": {
    "scrolled": true
   },
   "outputs": [
    {
     "data": {
      "text/html": [
       "<div>\n",
       "<style scoped>\n",
       "    .dataframe tbody tr th:only-of-type {\n",
       "        vertical-align: middle;\n",
       "    }\n",
       "\n",
       "    .dataframe tbody tr th {\n",
       "        vertical-align: top;\n",
       "    }\n",
       "\n",
       "    .dataframe thead th {\n",
       "        text-align: right;\n",
       "    }\n",
       "</style>\n",
       "<table border=\"1\" class=\"dataframe\">\n",
       "  <thead>\n",
       "    <tr style=\"text-align: right;\">\n",
       "      <th></th>\n",
       "      <th>Time</th>\n",
       "      <th>V1</th>\n",
       "      <th>V2</th>\n",
       "      <th>V3</th>\n",
       "      <th>V4</th>\n",
       "      <th>V5</th>\n",
       "      <th>V6</th>\n",
       "      <th>V7</th>\n",
       "      <th>V8</th>\n",
       "      <th>V9</th>\n",
       "      <th>...</th>\n",
       "      <th>V22</th>\n",
       "      <th>V23</th>\n",
       "      <th>V24</th>\n",
       "      <th>V25</th>\n",
       "      <th>V26</th>\n",
       "      <th>V27</th>\n",
       "      <th>V28</th>\n",
       "      <th>Amount</th>\n",
       "      <th>Class</th>\n",
       "      <th>Fraud_or_Not</th>\n",
       "    </tr>\n",
       "  </thead>\n",
       "  <tbody>\n",
       "    <tr>\n",
       "      <th>0</th>\n",
       "      <td>0.0</td>\n",
       "      <td>-1.359807</td>\n",
       "      <td>-0.072781</td>\n",
       "      <td>2.536347</td>\n",
       "      <td>1.378155</td>\n",
       "      <td>-0.338321</td>\n",
       "      <td>0.462388</td>\n",
       "      <td>0.239599</td>\n",
       "      <td>0.098698</td>\n",
       "      <td>0.363787</td>\n",
       "      <td>...</td>\n",
       "      <td>0.277838</td>\n",
       "      <td>-0.110474</td>\n",
       "      <td>0.066928</td>\n",
       "      <td>0.128539</td>\n",
       "      <td>-0.189115</td>\n",
       "      <td>0.133558</td>\n",
       "      <td>-0.021053</td>\n",
       "      <td>149.62</td>\n",
       "      <td>0</td>\n",
       "      <td>0</td>\n",
       "    </tr>\n",
       "    <tr>\n",
       "      <th>1</th>\n",
       "      <td>0.0</td>\n",
       "      <td>1.191857</td>\n",
       "      <td>0.266151</td>\n",
       "      <td>0.166480</td>\n",
       "      <td>0.448154</td>\n",
       "      <td>0.060018</td>\n",
       "      <td>-0.082361</td>\n",
       "      <td>-0.078803</td>\n",
       "      <td>0.085102</td>\n",
       "      <td>-0.255425</td>\n",
       "      <td>...</td>\n",
       "      <td>-0.638672</td>\n",
       "      <td>0.101288</td>\n",
       "      <td>-0.339846</td>\n",
       "      <td>0.167170</td>\n",
       "      <td>0.125895</td>\n",
       "      <td>-0.008983</td>\n",
       "      <td>0.014724</td>\n",
       "      <td>2.69</td>\n",
       "      <td>0</td>\n",
       "      <td>0</td>\n",
       "    </tr>\n",
       "    <tr>\n",
       "      <th>2</th>\n",
       "      <td>1.0</td>\n",
       "      <td>-1.358354</td>\n",
       "      <td>-1.340163</td>\n",
       "      <td>1.773209</td>\n",
       "      <td>0.379780</td>\n",
       "      <td>-0.503198</td>\n",
       "      <td>1.800499</td>\n",
       "      <td>0.791461</td>\n",
       "      <td>0.247676</td>\n",
       "      <td>-1.514654</td>\n",
       "      <td>...</td>\n",
       "      <td>0.771679</td>\n",
       "      <td>0.909412</td>\n",
       "      <td>-0.689281</td>\n",
       "      <td>-0.327642</td>\n",
       "      <td>-0.139097</td>\n",
       "      <td>-0.055353</td>\n",
       "      <td>-0.059752</td>\n",
       "      <td>378.66</td>\n",
       "      <td>0</td>\n",
       "      <td>0</td>\n",
       "    </tr>\n",
       "    <tr>\n",
       "      <th>3</th>\n",
       "      <td>1.0</td>\n",
       "      <td>-0.966272</td>\n",
       "      <td>-0.185226</td>\n",
       "      <td>1.792993</td>\n",
       "      <td>-0.863291</td>\n",
       "      <td>-0.010309</td>\n",
       "      <td>1.247203</td>\n",
       "      <td>0.237609</td>\n",
       "      <td>0.377436</td>\n",
       "      <td>-1.387024</td>\n",
       "      <td>...</td>\n",
       "      <td>0.005274</td>\n",
       "      <td>-0.190321</td>\n",
       "      <td>-1.175575</td>\n",
       "      <td>0.647376</td>\n",
       "      <td>-0.221929</td>\n",
       "      <td>0.062723</td>\n",
       "      <td>0.061458</td>\n",
       "      <td>123.50</td>\n",
       "      <td>0</td>\n",
       "      <td>0</td>\n",
       "    </tr>\n",
       "    <tr>\n",
       "      <th>4</th>\n",
       "      <td>2.0</td>\n",
       "      <td>-1.158233</td>\n",
       "      <td>0.877737</td>\n",
       "      <td>1.548718</td>\n",
       "      <td>0.403034</td>\n",
       "      <td>-0.407193</td>\n",
       "      <td>0.095921</td>\n",
       "      <td>0.592941</td>\n",
       "      <td>-0.270533</td>\n",
       "      <td>0.817739</td>\n",
       "      <td>...</td>\n",
       "      <td>0.798278</td>\n",
       "      <td>-0.137458</td>\n",
       "      <td>0.141267</td>\n",
       "      <td>-0.206010</td>\n",
       "      <td>0.502292</td>\n",
       "      <td>0.219422</td>\n",
       "      <td>0.215153</td>\n",
       "      <td>69.99</td>\n",
       "      <td>0</td>\n",
       "      <td>0</td>\n",
       "    </tr>\n",
       "  </tbody>\n",
       "</table>\n",
       "<p>5 rows × 32 columns</p>\n",
       "</div>"
      ],
      "text/plain": [
       "   Time        V1        V2        V3        V4        V5        V6        V7  \\\n",
       "0   0.0 -1.359807 -0.072781  2.536347  1.378155 -0.338321  0.462388  0.239599   \n",
       "1   0.0  1.191857  0.266151  0.166480  0.448154  0.060018 -0.082361 -0.078803   \n",
       "2   1.0 -1.358354 -1.340163  1.773209  0.379780 -0.503198  1.800499  0.791461   \n",
       "3   1.0 -0.966272 -0.185226  1.792993 -0.863291 -0.010309  1.247203  0.237609   \n",
       "4   2.0 -1.158233  0.877737  1.548718  0.403034 -0.407193  0.095921  0.592941   \n",
       "\n",
       "         V8        V9  ...       V22       V23       V24       V25       V26  \\\n",
       "0  0.098698  0.363787  ...  0.277838 -0.110474  0.066928  0.128539 -0.189115   \n",
       "1  0.085102 -0.255425  ... -0.638672  0.101288 -0.339846  0.167170  0.125895   \n",
       "2  0.247676 -1.514654  ...  0.771679  0.909412 -0.689281 -0.327642 -0.139097   \n",
       "3  0.377436 -1.387024  ...  0.005274 -0.190321 -1.175575  0.647376 -0.221929   \n",
       "4 -0.270533  0.817739  ...  0.798278 -0.137458  0.141267 -0.206010  0.502292   \n",
       "\n",
       "        V27       V28  Amount  Class  Fraud_or_Not  \n",
       "0  0.133558 -0.021053  149.62      0             0  \n",
       "1 -0.008983  0.014724    2.69      0             0  \n",
       "2 -0.055353 -0.059752  378.66      0             0  \n",
       "3  0.062723  0.061458  123.50      0             0  \n",
       "4  0.219422  0.215153   69.99      0             0  \n",
       "\n",
       "[5 rows x 32 columns]"
      ]
     },
     "execution_count": 18,
     "metadata": {},
     "output_type": "execute_result"
    }
   ],
   "source": [
    "credit_df.head()"
   ]
  },
  {
   "cell_type": "code",
   "execution_count": 19,
   "metadata": {},
   "outputs": [],
   "source": [
    "X_train,X_test,y_train,y_test=train_test_split(X,y,test_size=.2,random_state=42)"
   ]
  },
  {
   "cell_type": "code",
   "execution_count": 20,
   "metadata": {},
   "outputs": [
    {
     "data": {
      "text/plain": [
       "(227845, 30)"
      ]
     },
     "execution_count": 20,
     "metadata": {},
     "output_type": "execute_result"
    }
   ],
   "source": [
    "X_train.shape"
   ]
  },
  {
   "cell_type": "code",
   "execution_count": 21,
   "metadata": {},
   "outputs": [],
   "source": [
    "# Feature selection using Variance Threshold of 0.5 thresold\n",
    "Variance = VarianceThreshold(threshold=0.5)\n",
    "Variance.fit(X_train,y_train)\n",
    "X_train_var=Variance.transform(X_train)\n",
    "X_test_var=Variance.transform(X_test)"
   ]
  },
  {
   "cell_type": "code",
   "execution_count": 22,
   "metadata": {},
   "outputs": [
    {
     "data": {
      "text/plain": [
       "(227845, 23)"
      ]
     },
     "execution_count": 22,
     "metadata": {},
     "output_type": "execute_result"
    }
   ],
   "source": [
    "X_train_var.shape"
   ]
  },
  {
   "cell_type": "code",
   "execution_count": 23,
   "metadata": {},
   "outputs": [],
   "source": [
    "# Alternate way to perform feature selection and display the features\n",
    "def variance_threshold_selector(data, threshold=0.5):\n",
    "    selector = VarianceThreshold(threshold)\n",
    "    selector.fit(data)\n",
    "    return data[data.columns[selector.get_support(indices=True)]]"
   ]
  },
  {
   "cell_type": "code",
   "execution_count": 24,
   "metadata": {},
   "outputs": [
    {
     "data": {
      "text/html": [
       "<div>\n",
       "<style scoped>\n",
       "    .dataframe tbody tr th:only-of-type {\n",
       "        vertical-align: middle;\n",
       "    }\n",
       "\n",
       "    .dataframe tbody tr th {\n",
       "        vertical-align: top;\n",
       "    }\n",
       "\n",
       "    .dataframe thead th {\n",
       "        text-align: right;\n",
       "    }\n",
       "</style>\n",
       "<table border=\"1\" class=\"dataframe\">\n",
       "  <thead>\n",
       "    <tr style=\"text-align: right;\">\n",
       "      <th></th>\n",
       "      <th>V1</th>\n",
       "      <th>V2</th>\n",
       "      <th>V3</th>\n",
       "      <th>V4</th>\n",
       "      <th>V5</th>\n",
       "      <th>V6</th>\n",
       "      <th>V7</th>\n",
       "      <th>V8</th>\n",
       "      <th>V9</th>\n",
       "      <th>V10</th>\n",
       "      <th>...</th>\n",
       "      <th>V14</th>\n",
       "      <th>V15</th>\n",
       "      <th>V16</th>\n",
       "      <th>V17</th>\n",
       "      <th>V18</th>\n",
       "      <th>V19</th>\n",
       "      <th>V20</th>\n",
       "      <th>V21</th>\n",
       "      <th>V22</th>\n",
       "      <th>Amount</th>\n",
       "    </tr>\n",
       "  </thead>\n",
       "  <tbody>\n",
       "    <tr>\n",
       "      <th>223361</th>\n",
       "      <td>1.955041</td>\n",
       "      <td>-0.380783</td>\n",
       "      <td>-0.315013</td>\n",
       "      <td>0.330155</td>\n",
       "      <td>-0.509374</td>\n",
       "      <td>-0.086197</td>\n",
       "      <td>-0.627978</td>\n",
       "      <td>0.035994</td>\n",
       "      <td>1.054560</td>\n",
       "      <td>-0.030441</td>\n",
       "      <td>...</td>\n",
       "      <td>-0.253266</td>\n",
       "      <td>-0.331695</td>\n",
       "      <td>0.307252</td>\n",
       "      <td>-0.930844</td>\n",
       "      <td>0.651666</td>\n",
       "      <td>0.167987</td>\n",
       "      <td>-0.125390</td>\n",
       "      <td>0.238197</td>\n",
       "      <td>0.968305</td>\n",
       "      <td>9.99</td>\n",
       "    </tr>\n",
       "    <tr>\n",
       "      <th>165061</th>\n",
       "      <td>-0.400975</td>\n",
       "      <td>-0.626943</td>\n",
       "      <td>1.555339</td>\n",
       "      <td>-2.017772</td>\n",
       "      <td>-0.107769</td>\n",
       "      <td>0.168310</td>\n",
       "      <td>0.017959</td>\n",
       "      <td>-0.401619</td>\n",
       "      <td>0.040378</td>\n",
       "      <td>0.611115</td>\n",
       "      <td>...</td>\n",
       "      <td>-1.193347</td>\n",
       "      <td>0.631053</td>\n",
       "      <td>-0.160123</td>\n",
       "      <td>-1.630444</td>\n",
       "      <td>2.106866</td>\n",
       "      <td>-1.692780</td>\n",
       "      <td>-0.470372</td>\n",
       "      <td>-0.153485</td>\n",
       "      <td>0.421703</td>\n",
       "      <td>45.90</td>\n",
       "    </tr>\n",
       "    <tr>\n",
       "      <th>238186</th>\n",
       "      <td>0.072509</td>\n",
       "      <td>0.820566</td>\n",
       "      <td>-0.561351</td>\n",
       "      <td>-0.709897</td>\n",
       "      <td>1.080399</td>\n",
       "      <td>-0.359429</td>\n",
       "      <td>0.787858</td>\n",
       "      <td>0.117276</td>\n",
       "      <td>-0.131275</td>\n",
       "      <td>-0.638222</td>\n",
       "      <td>...</td>\n",
       "      <td>-0.640249</td>\n",
       "      <td>-0.801946</td>\n",
       "      <td>0.678131</td>\n",
       "      <td>0.044374</td>\n",
       "      <td>0.521919</td>\n",
       "      <td>0.198772</td>\n",
       "      <td>0.012227</td>\n",
       "      <td>-0.314638</td>\n",
       "      <td>-0.872959</td>\n",
       "      <td>11.99</td>\n",
       "    </tr>\n",
       "    <tr>\n",
       "      <th>150562</th>\n",
       "      <td>-0.535045</td>\n",
       "      <td>1.014587</td>\n",
       "      <td>1.750679</td>\n",
       "      <td>2.769390</td>\n",
       "      <td>0.500089</td>\n",
       "      <td>1.002270</td>\n",
       "      <td>0.847902</td>\n",
       "      <td>-0.081323</td>\n",
       "      <td>0.371579</td>\n",
       "      <td>0.560595</td>\n",
       "      <td>...</td>\n",
       "      <td>1.271254</td>\n",
       "      <td>-1.011647</td>\n",
       "      <td>1.458600</td>\n",
       "      <td>-0.613260</td>\n",
       "      <td>0.814931</td>\n",
       "      <td>-2.147124</td>\n",
       "      <td>-0.253757</td>\n",
       "      <td>0.063525</td>\n",
       "      <td>0.443431</td>\n",
       "      <td>117.44</td>\n",
       "    </tr>\n",
       "    <tr>\n",
       "      <th>138452</th>\n",
       "      <td>-4.026938</td>\n",
       "      <td>1.897371</td>\n",
       "      <td>-0.429786</td>\n",
       "      <td>-0.029571</td>\n",
       "      <td>-0.855751</td>\n",
       "      <td>-0.480406</td>\n",
       "      <td>-0.435632</td>\n",
       "      <td>1.313760</td>\n",
       "      <td>0.536044</td>\n",
       "      <td>1.221746</td>\n",
       "      <td>...</td>\n",
       "      <td>0.187685</td>\n",
       "      <td>-1.060579</td>\n",
       "      <td>0.143332</td>\n",
       "      <td>0.007803</td>\n",
       "      <td>-0.055817</td>\n",
       "      <td>0.712695</td>\n",
       "      <td>-0.012320</td>\n",
       "      <td>-0.480691</td>\n",
       "      <td>-0.230369</td>\n",
       "      <td>25.76</td>\n",
       "    </tr>\n",
       "    <tr>\n",
       "      <th>...</th>\n",
       "      <td>...</td>\n",
       "      <td>...</td>\n",
       "      <td>...</td>\n",
       "      <td>...</td>\n",
       "      <td>...</td>\n",
       "      <td>...</td>\n",
       "      <td>...</td>\n",
       "      <td>...</td>\n",
       "      <td>...</td>\n",
       "      <td>...</td>\n",
       "      <td>...</td>\n",
       "      <td>...</td>\n",
       "      <td>...</td>\n",
       "      <td>...</td>\n",
       "      <td>...</td>\n",
       "      <td>...</td>\n",
       "      <td>...</td>\n",
       "      <td>...</td>\n",
       "      <td>...</td>\n",
       "      <td>...</td>\n",
       "      <td>...</td>\n",
       "    </tr>\n",
       "    <tr>\n",
       "      <th>119879</th>\n",
       "      <td>1.173488</td>\n",
       "      <td>0.100792</td>\n",
       "      <td>0.490512</td>\n",
       "      <td>0.461596</td>\n",
       "      <td>-0.296377</td>\n",
       "      <td>-0.213165</td>\n",
       "      <td>-0.165254</td>\n",
       "      <td>0.119221</td>\n",
       "      <td>-0.114199</td>\n",
       "      <td>0.079128</td>\n",
       "      <td>...</td>\n",
       "      <td>0.600937</td>\n",
       "      <td>0.658885</td>\n",
       "      <td>0.239566</td>\n",
       "      <td>-0.356782</td>\n",
       "      <td>-0.410923</td>\n",
       "      <td>-0.182494</td>\n",
       "      <td>-0.157534</td>\n",
       "      <td>-0.186027</td>\n",
       "      <td>-0.574283</td>\n",
       "      <td>1.98</td>\n",
       "    </tr>\n",
       "    <tr>\n",
       "      <th>259178</th>\n",
       "      <td>-0.775981</td>\n",
       "      <td>0.144023</td>\n",
       "      <td>-1.142399</td>\n",
       "      <td>-1.241113</td>\n",
       "      <td>1.940358</td>\n",
       "      <td>3.912076</td>\n",
       "      <td>-0.466107</td>\n",
       "      <td>1.360620</td>\n",
       "      <td>0.400697</td>\n",
       "      <td>-0.654029</td>\n",
       "      <td>...</td>\n",
       "      <td>0.384625</td>\n",
       "      <td>0.785702</td>\n",
       "      <td>0.057999</td>\n",
       "      <td>-0.462528</td>\n",
       "      <td>-0.063197</td>\n",
       "      <td>0.094703</td>\n",
       "      <td>-0.295730</td>\n",
       "      <td>0.037078</td>\n",
       "      <td>-0.019575</td>\n",
       "      <td>89.23</td>\n",
       "    </tr>\n",
       "    <tr>\n",
       "      <th>131932</th>\n",
       "      <td>-0.146609</td>\n",
       "      <td>0.992946</td>\n",
       "      <td>1.524591</td>\n",
       "      <td>0.485774</td>\n",
       "      <td>0.349308</td>\n",
       "      <td>-0.815198</td>\n",
       "      <td>1.076640</td>\n",
       "      <td>-0.395316</td>\n",
       "      <td>-0.491303</td>\n",
       "      <td>-0.212753</td>\n",
       "      <td>...</td>\n",
       "      <td>-0.019493</td>\n",
       "      <td>0.690200</td>\n",
       "      <td>-0.144778</td>\n",
       "      <td>-0.539887</td>\n",
       "      <td>-0.068375</td>\n",
       "      <td>-0.229614</td>\n",
       "      <td>0.007155</td>\n",
       "      <td>0.052649</td>\n",
       "      <td>0.354089</td>\n",
       "      <td>3.94</td>\n",
       "    </tr>\n",
       "    <tr>\n",
       "      <th>146867</th>\n",
       "      <td>-2.948638</td>\n",
       "      <td>2.354849</td>\n",
       "      <td>-2.521201</td>\n",
       "      <td>-3.798905</td>\n",
       "      <td>1.866302</td>\n",
       "      <td>2.727695</td>\n",
       "      <td>-0.471769</td>\n",
       "      <td>2.217537</td>\n",
       "      <td>0.580199</td>\n",
       "      <td>-0.027572</td>\n",
       "      <td>...</td>\n",
       "      <td>0.927786</td>\n",
       "      <td>-0.090065</td>\n",
       "      <td>0.426113</td>\n",
       "      <td>-0.396148</td>\n",
       "      <td>-0.946837</td>\n",
       "      <td>-1.143752</td>\n",
       "      <td>0.417396</td>\n",
       "      <td>-0.332759</td>\n",
       "      <td>-1.047514</td>\n",
       "      <td>1.00</td>\n",
       "    </tr>\n",
       "    <tr>\n",
       "      <th>121958</th>\n",
       "      <td>1.233174</td>\n",
       "      <td>-0.784851</td>\n",
       "      <td>0.386784</td>\n",
       "      <td>-0.698559</td>\n",
       "      <td>-1.034018</td>\n",
       "      <td>-0.637028</td>\n",
       "      <td>-0.502369</td>\n",
       "      <td>-0.188057</td>\n",
       "      <td>-0.749637</td>\n",
       "      <td>0.543016</td>\n",
       "      <td>...</td>\n",
       "      <td>-0.346209</td>\n",
       "      <td>0.893667</td>\n",
       "      <td>1.447832</td>\n",
       "      <td>-0.040565</td>\n",
       "      <td>-1.314021</td>\n",
       "      <td>0.673568</td>\n",
       "      <td>0.337732</td>\n",
       "      <td>0.027634</td>\n",
       "      <td>-0.234522</td>\n",
       "      <td>113.00</td>\n",
       "    </tr>\n",
       "  </tbody>\n",
       "</table>\n",
       "<p>227845 rows × 23 columns</p>\n",
       "</div>"
      ],
      "text/plain": [
       "              V1        V2        V3        V4        V5        V6        V7  \\\n",
       "223361  1.955041 -0.380783 -0.315013  0.330155 -0.509374 -0.086197 -0.627978   \n",
       "165061 -0.400975 -0.626943  1.555339 -2.017772 -0.107769  0.168310  0.017959   \n",
       "238186  0.072509  0.820566 -0.561351 -0.709897  1.080399 -0.359429  0.787858   \n",
       "150562 -0.535045  1.014587  1.750679  2.769390  0.500089  1.002270  0.847902   \n",
       "138452 -4.026938  1.897371 -0.429786 -0.029571 -0.855751 -0.480406 -0.435632   \n",
       "...          ...       ...       ...       ...       ...       ...       ...   \n",
       "119879  1.173488  0.100792  0.490512  0.461596 -0.296377 -0.213165 -0.165254   \n",
       "259178 -0.775981  0.144023 -1.142399 -1.241113  1.940358  3.912076 -0.466107   \n",
       "131932 -0.146609  0.992946  1.524591  0.485774  0.349308 -0.815198  1.076640   \n",
       "146867 -2.948638  2.354849 -2.521201 -3.798905  1.866302  2.727695 -0.471769   \n",
       "121958  1.233174 -0.784851  0.386784 -0.698559 -1.034018 -0.637028 -0.502369   \n",
       "\n",
       "              V8        V9       V10  ...       V14       V15       V16  \\\n",
       "223361  0.035994  1.054560 -0.030441  ... -0.253266 -0.331695  0.307252   \n",
       "165061 -0.401619  0.040378  0.611115  ... -1.193347  0.631053 -0.160123   \n",
       "238186  0.117276 -0.131275 -0.638222  ... -0.640249 -0.801946  0.678131   \n",
       "150562 -0.081323  0.371579  0.560595  ...  1.271254 -1.011647  1.458600   \n",
       "138452  1.313760  0.536044  1.221746  ...  0.187685 -1.060579  0.143332   \n",
       "...          ...       ...       ...  ...       ...       ...       ...   \n",
       "119879  0.119221 -0.114199  0.079128  ...  0.600937  0.658885  0.239566   \n",
       "259178  1.360620  0.400697 -0.654029  ...  0.384625  0.785702  0.057999   \n",
       "131932 -0.395316 -0.491303 -0.212753  ... -0.019493  0.690200 -0.144778   \n",
       "146867  2.217537  0.580199 -0.027572  ...  0.927786 -0.090065  0.426113   \n",
       "121958 -0.188057 -0.749637  0.543016  ... -0.346209  0.893667  1.447832   \n",
       "\n",
       "             V17       V18       V19       V20       V21       V22  Amount  \n",
       "223361 -0.930844  0.651666  0.167987 -0.125390  0.238197  0.968305    9.99  \n",
       "165061 -1.630444  2.106866 -1.692780 -0.470372 -0.153485  0.421703   45.90  \n",
       "238186  0.044374  0.521919  0.198772  0.012227 -0.314638 -0.872959   11.99  \n",
       "150562 -0.613260  0.814931 -2.147124 -0.253757  0.063525  0.443431  117.44  \n",
       "138452  0.007803 -0.055817  0.712695 -0.012320 -0.480691 -0.230369   25.76  \n",
       "...          ...       ...       ...       ...       ...       ...     ...  \n",
       "119879 -0.356782 -0.410923 -0.182494 -0.157534 -0.186027 -0.574283    1.98  \n",
       "259178 -0.462528 -0.063197  0.094703 -0.295730  0.037078 -0.019575   89.23  \n",
       "131932 -0.539887 -0.068375 -0.229614  0.007155  0.052649  0.354089    3.94  \n",
       "146867 -0.396148 -0.946837 -1.143752  0.417396 -0.332759 -1.047514    1.00  \n",
       "121958 -0.040565 -1.314021  0.673568  0.337732  0.027634 -0.234522  113.00  \n",
       "\n",
       "[227845 rows x 23 columns]"
      ]
     },
     "execution_count": 24,
     "metadata": {},
     "output_type": "execute_result"
    }
   ],
   "source": [
    "variance_threshold_selector(X_train, 0.5)"
   ]
  },
  {
   "cell_type": "code",
   "execution_count": 25,
   "metadata": {},
   "outputs": [
    {
     "data": {
      "text/plain": [
       "array([ True,  True,  True,  True,  True,  True,  True,  True,  True,\n",
       "        True,  True,  True,  True,  True,  True,  True,  True,  True,\n",
       "        True,  True,  True,  True, False, False, False, False, False,\n",
       "       False,  True, False])"
      ]
     },
     "execution_count": 25,
     "metadata": {},
     "output_type": "execute_result"
    }
   ],
   "source": [
    "varth_features=Variance.get_support()\n",
    "varth_features"
   ]
  },
  {
   "cell_type": "code",
   "execution_count": 26,
   "metadata": {},
   "outputs": [
    {
     "data": {
      "text/plain": [
       "<matplotlib.image.AxesImage at 0x1cc0a05e520>"
      ]
     },
     "execution_count": 26,
     "metadata": {},
     "output_type": "execute_result"
    },
    {
     "data": {
      "image/png": "[encoded data removed]",
      "text/plain": [
       "<Figure size 288x1152 with 1 Axes>"
      ]
     },
     "metadata": {
      "needs_background": "light"
     },
     "output_type": "display_data"
    }
   ],
   "source": [
    "plt.matshow(varth_features.reshape(-1,1))"
   ]
  },
  {
   "cell_type": "markdown",
   "metadata": {},
   "source": [
    "Variance threshold is calculated based on probability density function of a particular distribution. When a feature has 95% or more variability, then this is very close to zero and the feature may not help in predicting the model. This can be removed. The values with True are the features selected using Variance threshold technique. The columns from V23 to V28 and 30 are removed."
   ]
  },
  {
   "cell_type": "code",
   "execution_count": 27,
   "metadata": {},
   "outputs": [
    {
     "name": "stderr",
     "output_type": "stream",
     "text": [
      "C:\\Users\\mdram\\anaconda3\\lib\\site-packages\\sklearn\\feature_selection\\_univariate_selection.py:116: RuntimeWarning: divide by zero encountered in true_divide\n",
      "  f = msb / msw\n"
     ]
    }
   ],
   "source": [
    "# Feature selection using SelectKBest feature selection\n",
    "select_10_best = SelectKBest(k=10)\n",
    "select_10_best.fit(X_train,y_train)\n",
    "X_train_skbest=select_10_best.transform(X_train)\n",
    "X_test_skbest=select_10_best.transform(X_test)"
   ]
  },
  {
   "cell_type": "code",
   "execution_count": 28,
   "metadata": {},
   "outputs": [
    {
     "data": {
      "text/plain": [
       "(227845, 10)"
      ]
     },
     "execution_count": 28,
     "metadata": {},
     "output_type": "execute_result"
    }
   ],
   "source": [
    "X_train_skbest.shape"
   ]
  },
  {
   "cell_type": "code",
   "execution_count": 29,
   "metadata": {},
   "outputs": [
    {
     "data": {
      "text/plain": [
       "array([False, False,  True,  True, False, False,  True, False, False,\n",
       "        True,  True,  True, False,  True, False,  True,  True, False,\n",
       "       False, False, False, False, False, False, False, False, False,\n",
       "       False, False,  True])"
      ]
     },
     "execution_count": 29,
     "metadata": {},
     "output_type": "execute_result"
    }
   ],
   "source": [
    "kbest_features=select_10_best.get_support()\n",
    "kbest_features"
   ]
  },
  {
   "cell_type": "code",
   "execution_count": 30,
   "metadata": {},
   "outputs": [
    {
     "name": "stderr",
     "output_type": "stream",
     "text": [
      "C:\\Users\\mdram\\anaconda3\\lib\\site-packages\\sklearn\\feature_selection\\_univariate_selection.py:116: RuntimeWarning: divide by zero encountered in true_divide\n",
      "  f = msb / msw\n"
     ]
    },
    {
     "name": "stdout",
     "output_type": "stream",
     "text": [
      "    Feature_Name         Score\n",
      "29  Fraud_or_Not           inf\n",
      "16           V17  2.724081e+04\n",
      "13           V14  2.354766e+04\n",
      "11           V12  1.698553e+04\n",
      "9            V10  1.109619e+04\n",
      "15           V16  9.239510e+03\n",
      "2             V3  8.425516e+03\n",
      "6             V7  7.782311e+03\n",
      "10           V11  5.680322e+03\n",
      "3             V4  4.173023e+03\n"
     ]
    }
   ],
   "source": [
    "# SelectKBest to determine 10 best features\n",
    "best_10_features = SelectKBest(score_func=f_classif, k=10)\n",
    "fit = best_10_features.fit(X_train,y_train)\n",
    "df_scores = pd.DataFrame(fit.scores_)\n",
    "df_columns = pd.DataFrame(X_train.columns)\n",
    "# concatenate dataframes\n",
    "feature_scores = pd.concat([df_columns, df_scores],axis=1)\n",
    "feature_scores.columns = ['Feature_Name','Score']  # name output columns\n",
    "print(feature_scores.nlargest(10,'Score'))         # print 10 best features"
   ]
  },
  {
   "cell_type": "markdown",
   "metadata": {},
   "source": [
    "The values with True are the features selected using SelectKBest technique. Most relevant 10 features are selected. The features selected can be tested by running throught the model."
   ]
  },
  {
   "cell_type": "code",
   "execution_count": 31,
   "metadata": {},
   "outputs": [],
   "source": [
    "# calculate precision recall area under curve\n",
    "def preci_auc(y_true, pred_prob):\n",
    "   # calculate precision-recall curve\n",
    "    p, r, _ = precision_recall_curve(y_true, pred_prob)\n",
    "    # calculate area under curve\n",
    "    return auc(r, p)"
   ]
  },
  {
   "cell_type": "code",
   "execution_count": 32,
   "metadata": {},
   "outputs": [],
   "source": [
    "# Evaluate a model\n",
    "def evaluate_model(X, y, model):\n",
    "    # Define evaluation procedure\n",
    "    CV = RepeatedStratifiedKFold(n_splits=10, n_repeats=3, random_state=1)\n",
    "    # Define the model evaluation the metric\n",
    "    metric = make_scorer(preci_auc, needs_proba=True)\n",
    "    # Evaluate model\n",
    "    scores = cross_val_score(model, X, y, scoring='roc_auc', cv=CV, n_jobs=-1)\n",
    "    return scores"
   ]
  },
  {
   "cell_type": "code",
   "execution_count": 33,
   "metadata": {},
   "outputs": [],
   "source": [
    "# Define reference model\n",
    "model = DummyClassifier(strategy='constant', constant=1)"
   ]
  },
  {
   "cell_type": "markdown",
   "metadata": {},
   "source": [
    "Variance threshold returned 23 features and I'll be using this training and test data for further process"
   ]
  },
  {
   "cell_type": "code",
   "execution_count": 34,
   "metadata": {},
   "outputs": [
    {
     "name": "stdout",
     "output_type": "stream",
     "text": [
      "Mean area under curve: 0.50 (0.00)\n"
     ]
    }
   ],
   "source": [
    "# Evaluate the model\n",
    "scores = evaluate_model(X_train_var, y_train, model)\n",
    "# summarize performance\n",
    "print('Mean area under curve: %.2f (%.2f)' % (mean(scores), std(scores)))"
   ]
  },
  {
   "cell_type": "code",
   "execution_count": 35,
   "metadata": {},
   "outputs": [
    {
     "data": {
      "text/plain": [
       "DummyClassifier(constant=1, strategy='constant')"
      ]
     },
     "execution_count": 35,
     "metadata": {},
     "output_type": "execute_result"
    }
   ],
   "source": [
    "model"
   ]
  },
  {
   "cell_type": "markdown",
   "metadata": {},
   "source": [
    "The baseline score is 0.50. Hence the model selected should be atleast above this score.\n",
    "\n",
    "Since the values are of PCA transformation, it is better to normalize the data as it could impact the performance of the model."
   ]
  },
  {
   "cell_type": "code",
   "execution_count": 36,
   "metadata": {},
   "outputs": [],
   "source": [
    "# Normalize the input\n",
    "scaler = StandardScaler()\n",
    "scaler.fit(X_train_var)\n",
    "X_train_norm = scaler.transform(X_train_var)\n",
    "X_test_norm = scaler.transform(X_test_var)"
   ]
  },
  {
   "cell_type": "markdown",
   "metadata": {},
   "source": [
    "Model selection - Logistic regression is the common method used. Cross validation method is used to compare the results."
   ]
  },
  {
   "cell_type": "code",
   "execution_count": 37,
   "metadata": {},
   "outputs": [],
   "source": [
    "def model_val(X, y, classifier, scor, show):\n",
    "  X = np.array(X)\n",
    "  y = np.array(y)\n",
    "\n",
    "  scores = cross_val_score(classifier, X, y, scoring=scor)\n",
    "\n",
    "  if show == True:\n",
    "    print(\"Score: {:.2f} (+/- {:.2f})\".format(scores.mean(), scores.std()))\n",
    "  \n",
    "  return scores.mean()"
   ]
  },
  {
   "cell_type": "code",
   "execution_count": 38,
   "metadata": {},
   "outputs": [
    {
     "name": "stdout",
     "output_type": "stream",
     "text": [
      "Score: 0.95 (+/- 0.02)\n",
      "Score: 0.88 (+/- 0.02)\n",
      "Score: 0.98 (+/- 0.01)\n",
      "Score: 0.98 (+/- 0.01)\n"
     ]
    },
    {
     "data": {
      "text/html": [
       "<div>\n",
       "<style scoped>\n",
       "    .dataframe tbody tr th:only-of-type {\n",
       "        vertical-align: middle;\n",
       "    }\n",
       "\n",
       "    .dataframe tbody tr th {\n",
       "        vertical-align: top;\n",
       "    }\n",
       "\n",
       "    .dataframe thead th {\n",
       "        text-align: right;\n",
       "    }\n",
       "</style>\n",
       "<table border=\"1\" class=\"dataframe\">\n",
       "  <thead>\n",
       "    <tr style=\"text-align: right;\">\n",
       "      <th></th>\n",
       "      <th>roc_auc</th>\n",
       "    </tr>\n",
       "  </thead>\n",
       "  <tbody>\n",
       "    <tr>\n",
       "      <th>RandomForestClassifier</th>\n",
       "      <td>0.951464</td>\n",
       "    </tr>\n",
       "    <tr>\n",
       "      <th>DecisionTreeClassifier</th>\n",
       "      <td>0.884378</td>\n",
       "    </tr>\n",
       "    <tr>\n",
       "      <th>SGDClassifier</th>\n",
       "      <td>0.980817</td>\n",
       "    </tr>\n",
       "    <tr>\n",
       "      <th>LogisticRegression</th>\n",
       "      <td>0.977406</td>\n",
       "    </tr>\n",
       "  </tbody>\n",
       "</table>\n",
       "</div>"
      ],
      "text/plain": [
       "                         roc_auc\n",
       "RandomForestClassifier  0.951464\n",
       "DecisionTreeClassifier  0.884378\n",
       "SGDClassifier           0.980817\n",
       "LogisticRegression      0.977406"
      ]
     },
     "execution_count": 38,
     "metadata": {},
     "output_type": "execute_result"
    }
   ],
   "source": [
    "# List of models\n",
    "model = []\n",
    "score = []\n",
    "rfc = RandomForestClassifier()\n",
    "ctc = DecisionTreeClassifier()\n",
    "sglc = SGDClassifier()\n",
    "lr = LogisticRegression()\n",
    "\n",
    "# Model score added\n",
    "for classifier in (rfc, ctc, sglc, lr):\n",
    "    model.append(classifier.__class__.__name__)\n",
    "    score.append(model_val(X_train_norm, y_train, classifier, scor='roc_auc', show=True))\n",
    "\n",
    "pd.DataFrame(data=score, index=model, columns=['roc_auc'])"
   ]
  },
  {
   "cell_type": "markdown",
   "metadata": {},
   "source": [
    "Picking Logistic Regression  and RandomForest for comparison."
   ]
  },
  {
   "cell_type": "markdown",
   "metadata": {},
   "source": [
    "#### Logistic Regression Model Evaluation"
   ]
  },
  {
   "cell_type": "code",
   "execution_count": 39,
   "metadata": {},
   "outputs": [],
   "source": [
    "log_grid = GridSearchCV(LogisticRegression(random_state=101, n_jobs=1, max_iter=1000), param_grid={'tol': [0.00001, 0.0001, 0.001,0.01],'C': [1, 50,75, 100]},\n",
    "                     n_jobs=1, scoring='roc_auc')"
   ]
  },
  {
   "cell_type": "code",
   "execution_count": 40,
   "metadata": {},
   "outputs": [
    {
     "data": {
      "text/plain": [
       "GridSearchCV(estimator=LogisticRegression(max_iter=1000, n_jobs=1,\n",
       "                                          random_state=101),\n",
       "             n_jobs=1,\n",
       "             param_grid={'C': [1, 50, 75, 100],\n",
       "                         'tol': [1e-05, 0.0001, 0.001, 0.01]},\n",
       "             scoring='roc_auc')"
      ]
     },
     "execution_count": 40,
     "metadata": {},
     "output_type": "execute_result"
    }
   ],
   "source": [
    "log_grid.fit(X_train_norm, y_train)"
   ]
  },
  {
   "cell_type": "code",
   "execution_count": 41,
   "metadata": {},
   "outputs": [
    {
     "data": {
      "text/html": [
       "<div>\n",
       "<style scoped>\n",
       "    .dataframe tbody tr th:only-of-type {\n",
       "        vertical-align: middle;\n",
       "    }\n",
       "\n",
       "    .dataframe tbody tr th {\n",
       "        vertical-align: top;\n",
       "    }\n",
       "\n",
       "    .dataframe thead th {\n",
       "        text-align: right;\n",
       "    }\n",
       "</style>\n",
       "<table border=\"1\" class=\"dataframe\">\n",
       "  <thead>\n",
       "    <tr style=\"text-align: right;\">\n",
       "      <th></th>\n",
       "      <th>mean_fit_time</th>\n",
       "      <th>std_fit_time</th>\n",
       "      <th>mean_score_time</th>\n",
       "      <th>std_score_time</th>\n",
       "      <th>param_C</th>\n",
       "      <th>param_tol</th>\n",
       "      <th>params</th>\n",
       "      <th>split0_test_score</th>\n",
       "      <th>split1_test_score</th>\n",
       "      <th>split2_test_score</th>\n",
       "      <th>split3_test_score</th>\n",
       "      <th>split4_test_score</th>\n",
       "      <th>mean_test_score</th>\n",
       "      <th>std_test_score</th>\n",
       "      <th>rank_test_score</th>\n",
       "    </tr>\n",
       "  </thead>\n",
       "  <tbody>\n",
       "    <tr>\n",
       "      <th>0</th>\n",
       "      <td>3.824820</td>\n",
       "      <td>0.478723</td>\n",
       "      <td>0.035602</td>\n",
       "      <td>0.001357</td>\n",
       "      <td>1</td>\n",
       "      <td>1e-05</td>\n",
       "      <td>{'C': 1, 'tol': 1e-05}</td>\n",
       "      <td>0.985495</td>\n",
       "      <td>0.971779</td>\n",
       "      <td>0.968078</td>\n",
       "      <td>0.981996</td>\n",
       "      <td>0.979681</td>\n",
       "      <td>0.977406</td>\n",
       "      <td>0.006486</td>\n",
       "      <td>1</td>\n",
       "    </tr>\n",
       "    <tr>\n",
       "      <th>1</th>\n",
       "      <td>4.046505</td>\n",
       "      <td>0.170298</td>\n",
       "      <td>0.036392</td>\n",
       "      <td>0.004499</td>\n",
       "      <td>1</td>\n",
       "      <td>0.0001</td>\n",
       "      <td>{'C': 1, 'tol': 0.0001}</td>\n",
       "      <td>0.985495</td>\n",
       "      <td>0.971779</td>\n",
       "      <td>0.968078</td>\n",
       "      <td>0.981996</td>\n",
       "      <td>0.979681</td>\n",
       "      <td>0.977406</td>\n",
       "      <td>0.006486</td>\n",
       "      <td>1</td>\n",
       "    </tr>\n",
       "    <tr>\n",
       "      <th>2</th>\n",
       "      <td>3.645913</td>\n",
       "      <td>0.343383</td>\n",
       "      <td>0.037795</td>\n",
       "      <td>0.003549</td>\n",
       "      <td>1</td>\n",
       "      <td>0.001</td>\n",
       "      <td>{'C': 1, 'tol': 0.001}</td>\n",
       "      <td>0.985495</td>\n",
       "      <td>0.971779</td>\n",
       "      <td>0.968078</td>\n",
       "      <td>0.981996</td>\n",
       "      <td>0.979681</td>\n",
       "      <td>0.977406</td>\n",
       "      <td>0.006486</td>\n",
       "      <td>1</td>\n",
       "    </tr>\n",
       "    <tr>\n",
       "      <th>3</th>\n",
       "      <td>3.365404</td>\n",
       "      <td>0.273444</td>\n",
       "      <td>0.033199</td>\n",
       "      <td>0.003545</td>\n",
       "      <td>1</td>\n",
       "      <td>0.01</td>\n",
       "      <td>{'C': 1, 'tol': 0.01}</td>\n",
       "      <td>0.985495</td>\n",
       "      <td>0.971779</td>\n",
       "      <td>0.968078</td>\n",
       "      <td>0.981996</td>\n",
       "      <td>0.979681</td>\n",
       "      <td>0.977406</td>\n",
       "      <td>0.006486</td>\n",
       "      <td>1</td>\n",
       "    </tr>\n",
       "    <tr>\n",
       "      <th>4</th>\n",
       "      <td>3.563201</td>\n",
       "      <td>0.353340</td>\n",
       "      <td>0.034803</td>\n",
       "      <td>0.003123</td>\n",
       "      <td>50</td>\n",
       "      <td>1e-05</td>\n",
       "      <td>{'C': 50, 'tol': 1e-05}</td>\n",
       "      <td>0.985342</td>\n",
       "      <td>0.971359</td>\n",
       "      <td>0.968207</td>\n",
       "      <td>0.981623</td>\n",
       "      <td>0.979487</td>\n",
       "      <td>0.977204</td>\n",
       "      <td>0.006420</td>\n",
       "      <td>5</td>\n",
       "    </tr>\n",
       "    <tr>\n",
       "      <th>5</th>\n",
       "      <td>3.553201</td>\n",
       "      <td>0.293563</td>\n",
       "      <td>0.032004</td>\n",
       "      <td>0.003574</td>\n",
       "      <td>50</td>\n",
       "      <td>0.0001</td>\n",
       "      <td>{'C': 50, 'tol': 0.0001}</td>\n",
       "      <td>0.985342</td>\n",
       "      <td>0.971359</td>\n",
       "      <td>0.968207</td>\n",
       "      <td>0.981623</td>\n",
       "      <td>0.979487</td>\n",
       "      <td>0.977204</td>\n",
       "      <td>0.006420</td>\n",
       "      <td>5</td>\n",
       "    </tr>\n",
       "    <tr>\n",
       "      <th>6</th>\n",
       "      <td>3.678616</td>\n",
       "      <td>0.333160</td>\n",
       "      <td>0.040592</td>\n",
       "      <td>0.015435</td>\n",
       "      <td>50</td>\n",
       "      <td>0.001</td>\n",
       "      <td>{'C': 50, 'tol': 0.001}</td>\n",
       "      <td>0.985342</td>\n",
       "      <td>0.971359</td>\n",
       "      <td>0.968207</td>\n",
       "      <td>0.981623</td>\n",
       "      <td>0.979487</td>\n",
       "      <td>0.977204</td>\n",
       "      <td>0.006420</td>\n",
       "      <td>5</td>\n",
       "    </tr>\n",
       "    <tr>\n",
       "      <th>7</th>\n",
       "      <td>3.855800</td>\n",
       "      <td>0.480484</td>\n",
       "      <td>0.037601</td>\n",
       "      <td>0.006589</td>\n",
       "      <td>50</td>\n",
       "      <td>0.01</td>\n",
       "      <td>{'C': 50, 'tol': 0.01}</td>\n",
       "      <td>0.985342</td>\n",
       "      <td>0.971359</td>\n",
       "      <td>0.968207</td>\n",
       "      <td>0.981623</td>\n",
       "      <td>0.979487</td>\n",
       "      <td>0.977204</td>\n",
       "      <td>0.006420</td>\n",
       "      <td>5</td>\n",
       "    </tr>\n",
       "    <tr>\n",
       "      <th>8</th>\n",
       "      <td>3.796202</td>\n",
       "      <td>0.413183</td>\n",
       "      <td>0.033206</td>\n",
       "      <td>0.007926</td>\n",
       "      <td>75</td>\n",
       "      <td>1e-05</td>\n",
       "      <td>{'C': 75, 'tol': 1e-05}</td>\n",
       "      <td>0.985341</td>\n",
       "      <td>0.971354</td>\n",
       "      <td>0.968216</td>\n",
       "      <td>0.981621</td>\n",
       "      <td>0.979485</td>\n",
       "      <td>0.977203</td>\n",
       "      <td>0.006418</td>\n",
       "      <td>9</td>\n",
       "    </tr>\n",
       "    <tr>\n",
       "      <th>9</th>\n",
       "      <td>4.092203</td>\n",
       "      <td>0.601341</td>\n",
       "      <td>0.036006</td>\n",
       "      <td>0.005179</td>\n",
       "      <td>75</td>\n",
       "      <td>0.0001</td>\n",
       "      <td>{'C': 75, 'tol': 0.0001}</td>\n",
       "      <td>0.985341</td>\n",
       "      <td>0.971354</td>\n",
       "      <td>0.968216</td>\n",
       "      <td>0.981621</td>\n",
       "      <td>0.979485</td>\n",
       "      <td>0.977203</td>\n",
       "      <td>0.006418</td>\n",
       "      <td>9</td>\n",
       "    </tr>\n",
       "    <tr>\n",
       "      <th>10</th>\n",
       "      <td>4.172907</td>\n",
       "      <td>0.822886</td>\n",
       "      <td>0.037801</td>\n",
       "      <td>0.006215</td>\n",
       "      <td>75</td>\n",
       "      <td>0.001</td>\n",
       "      <td>{'C': 75, 'tol': 0.001}</td>\n",
       "      <td>0.985341</td>\n",
       "      <td>0.971354</td>\n",
       "      <td>0.968216</td>\n",
       "      <td>0.981621</td>\n",
       "      <td>0.979485</td>\n",
       "      <td>0.977203</td>\n",
       "      <td>0.006418</td>\n",
       "      <td>9</td>\n",
       "    </tr>\n",
       "    <tr>\n",
       "      <th>11</th>\n",
       "      <td>3.546005</td>\n",
       "      <td>0.550356</td>\n",
       "      <td>0.033995</td>\n",
       "      <td>0.005763</td>\n",
       "      <td>75</td>\n",
       "      <td>0.01</td>\n",
       "      <td>{'C': 75, 'tol': 0.01}</td>\n",
       "      <td>0.985341</td>\n",
       "      <td>0.971354</td>\n",
       "      <td>0.968216</td>\n",
       "      <td>0.981621</td>\n",
       "      <td>0.979485</td>\n",
       "      <td>0.977203</td>\n",
       "      <td>0.006418</td>\n",
       "      <td>9</td>\n",
       "    </tr>\n",
       "    <tr>\n",
       "      <th>12</th>\n",
       "      <td>3.624806</td>\n",
       "      <td>0.194914</td>\n",
       "      <td>0.036595</td>\n",
       "      <td>0.014448</td>\n",
       "      <td>100</td>\n",
       "      <td>1e-05</td>\n",
       "      <td>{'C': 100, 'tol': 1e-05}</td>\n",
       "      <td>0.985340</td>\n",
       "      <td>0.971354</td>\n",
       "      <td>0.968206</td>\n",
       "      <td>0.981620</td>\n",
       "      <td>0.979484</td>\n",
       "      <td>0.977201</td>\n",
       "      <td>0.006420</td>\n",
       "      <td>13</td>\n",
       "    </tr>\n",
       "    <tr>\n",
       "      <th>13</th>\n",
       "      <td>3.386403</td>\n",
       "      <td>0.300107</td>\n",
       "      <td>0.032398</td>\n",
       "      <td>0.003775</td>\n",
       "      <td>100</td>\n",
       "      <td>0.0001</td>\n",
       "      <td>{'C': 100, 'tol': 0.0001}</td>\n",
       "      <td>0.985340</td>\n",
       "      <td>0.971354</td>\n",
       "      <td>0.968206</td>\n",
       "      <td>0.981620</td>\n",
       "      <td>0.979484</td>\n",
       "      <td>0.977201</td>\n",
       "      <td>0.006420</td>\n",
       "      <td>13</td>\n",
       "    </tr>\n",
       "    <tr>\n",
       "      <th>14</th>\n",
       "      <td>3.427404</td>\n",
       "      <td>0.394470</td>\n",
       "      <td>0.041995</td>\n",
       "      <td>0.024046</td>\n",
       "      <td>100</td>\n",
       "      <td>0.001</td>\n",
       "      <td>{'C': 100, 'tol': 0.001}</td>\n",
       "      <td>0.985340</td>\n",
       "      <td>0.971354</td>\n",
       "      <td>0.968206</td>\n",
       "      <td>0.981620</td>\n",
       "      <td>0.979484</td>\n",
       "      <td>0.977201</td>\n",
       "      <td>0.006420</td>\n",
       "      <td>13</td>\n",
       "    </tr>\n",
       "    <tr>\n",
       "      <th>15</th>\n",
       "      <td>3.416999</td>\n",
       "      <td>0.438019</td>\n",
       "      <td>0.031802</td>\n",
       "      <td>0.005189</td>\n",
       "      <td>100</td>\n",
       "      <td>0.01</td>\n",
       "      <td>{'C': 100, 'tol': 0.01}</td>\n",
       "      <td>0.985340</td>\n",
       "      <td>0.971354</td>\n",
       "      <td>0.968206</td>\n",
       "      <td>0.981620</td>\n",
       "      <td>0.979484</td>\n",
       "      <td>0.977201</td>\n",
       "      <td>0.006420</td>\n",
       "      <td>13</td>\n",
       "    </tr>\n",
       "  </tbody>\n",
       "</table>\n",
       "</div>"
      ],
      "text/plain": [
       "    mean_fit_time  std_fit_time  mean_score_time  std_score_time param_C  \\\n",
       "0        3.824820      0.478723         0.035602        0.001357       1   \n",
       "1        4.046505      0.170298         0.036392        0.004499       1   \n",
       "2        3.645913      0.343383         0.037795        0.003549       1   \n",
       "3        3.365404      0.273444         0.033199        0.003545       1   \n",
       "4        3.563201      0.353340         0.034803        0.003123      50   \n",
       "5        3.553201      0.293563         0.032004        0.003574      50   \n",
       "6        3.678616      0.333160         0.040592        0.015435      50   \n",
       "7        3.855800      0.480484         0.037601        0.006589      50   \n",
       "8        3.796202      0.413183         0.033206        0.007926      75   \n",
       "9        4.092203      0.601341         0.036006        0.005179      75   \n",
       "10       4.172907      0.822886         0.037801        0.006215      75   \n",
       "11       3.546005      0.550356         0.033995        0.005763      75   \n",
       "12       3.624806      0.194914         0.036595        0.014448     100   \n",
       "13       3.386403      0.300107         0.032398        0.003775     100   \n",
       "14       3.427404      0.394470         0.041995        0.024046     100   \n",
       "15       3.416999      0.438019         0.031802        0.005189     100   \n",
       "\n",
       "   param_tol                     params  split0_test_score  split1_test_score  \\\n",
       "0      1e-05     {'C': 1, 'tol': 1e-05}           0.985495           0.971779   \n",
       "1     0.0001    {'C': 1, 'tol': 0.0001}           0.985495           0.971779   \n",
       "2      0.001     {'C': 1, 'tol': 0.001}           0.985495           0.971779   \n",
       "3       0.01      {'C': 1, 'tol': 0.01}           0.985495           0.971779   \n",
       "4      1e-05    {'C': 50, 'tol': 1e-05}           0.985342           0.971359   \n",
       "5     0.0001   {'C': 50, 'tol': 0.0001}           0.985342           0.971359   \n",
       "6      0.001    {'C': 50, 'tol': 0.001}           0.985342           0.971359   \n",
       "7       0.01     {'C': 50, 'tol': 0.01}           0.985342           0.971359   \n",
       "8      1e-05    {'C': 75, 'tol': 1e-05}           0.985341           0.971354   \n",
       "9     0.0001   {'C': 75, 'tol': 0.0001}           0.985341           0.971354   \n",
       "10     0.001    {'C': 75, 'tol': 0.001}           0.985341           0.971354   \n",
       "11      0.01     {'C': 75, 'tol': 0.01}           0.985341           0.971354   \n",
       "12     1e-05   {'C': 100, 'tol': 1e-05}           0.985340           0.971354   \n",
       "13    0.0001  {'C': 100, 'tol': 0.0001}           0.985340           0.971354   \n",
       "14     0.001   {'C': 100, 'tol': 0.001}           0.985340           0.971354   \n",
       "15      0.01    {'C': 100, 'tol': 0.01}           0.985340           0.971354   \n",
       "\n",
       "    split2_test_score  split3_test_score  split4_test_score  mean_test_score  \\\n",
       "0            0.968078           0.981996           0.979681         0.977406   \n",
       "1            0.968078           0.981996           0.979681         0.977406   \n",
       "2            0.968078           0.981996           0.979681         0.977406   \n",
       "3            0.968078           0.981996           0.979681         0.977406   \n",
       "4            0.968207           0.981623           0.979487         0.977204   \n",
       "5            0.968207           0.981623           0.979487         0.977204   \n",
       "6            0.968207           0.981623           0.979487         0.977204   \n",
       "7            0.968207           0.981623           0.979487         0.977204   \n",
       "8            0.968216           0.981621           0.979485         0.977203   \n",
       "9            0.968216           0.981621           0.979485         0.977203   \n",
       "10           0.968216           0.981621           0.979485         0.977203   \n",
       "11           0.968216           0.981621           0.979485         0.977203   \n",
       "12           0.968206           0.981620           0.979484         0.977201   \n",
       "13           0.968206           0.981620           0.979484         0.977201   \n",
       "14           0.968206           0.981620           0.979484         0.977201   \n",
       "15           0.968206           0.981620           0.979484         0.977201   \n",
       "\n",
       "    std_test_score  rank_test_score  \n",
       "0         0.006486                1  \n",
       "1         0.006486                1  \n",
       "2         0.006486                1  \n",
       "3         0.006486                1  \n",
       "4         0.006420                5  \n",
       "5         0.006420                5  \n",
       "6         0.006420                5  \n",
       "7         0.006420                5  \n",
       "8         0.006418                9  \n",
       "9         0.006418                9  \n",
       "10        0.006418                9  \n",
       "11        0.006418                9  \n",
       "12        0.006420               13  \n",
       "13        0.006420               13  \n",
       "14        0.006420               13  \n",
       "15        0.006420               13  "
      ]
     },
     "execution_count": 41,
     "metadata": {},
     "output_type": "execute_result"
    }
   ],
   "source": [
    "pd.DataFrame(log_grid.cv_results_)"
   ]
  },
  {
   "cell_type": "code",
   "execution_count": 42,
   "metadata": {},
   "outputs": [],
   "source": [
    "clf = log_grid.best_estimator_"
   ]
  },
  {
   "cell_type": "code",
   "execution_count": 43,
   "metadata": {},
   "outputs": [
    {
     "name": "stdout",
     "output_type": "stream",
     "text": [
      "Best estimator: LogisticRegression(C=1, max_iter=1000, n_jobs=1, random_state=101, tol=1e-05)\n",
      "Best Params: {'C': 1, 'tol': 1e-05}\n",
      "Best classifier score is  0.9774058180842646\n"
     ]
    }
   ],
   "source": [
    "print(\"Best estimator:\",log_grid.best_estimator_)\n",
    "print(\"Best Params:\",log_grid.best_params_)\n",
    "print(\"Best classifier score is \",log_grid.best_score_)"
   ]
  },
  {
   "cell_type": "markdown",
   "metadata": {},
   "source": [
    "#### Test Logistic Regression Model"
   ]
  },
  {
   "cell_type": "code",
   "execution_count": 44,
   "metadata": {},
   "outputs": [
    {
     "name": "stdout",
     "output_type": "stream",
     "text": [
      "Confusion Matrix:\n",
      "[[56855     9]\n",
      " [   40    58]] \n",
      "\n",
      "\n",
      "Classification report:\n",
      "              precision    recall  f1-score   support\n",
      "\n",
      "           0     0.9993    0.9998    0.9996     56864\n",
      "           1     0.8657    0.5918    0.7030        98\n",
      "\n",
      "    accuracy                         0.9991     56962\n",
      "   macro avg     0.9325    0.7958    0.8513     56962\n",
      "weighted avg     0.9991    0.9991    0.9991     56962\n",
      "\n",
      "Scalar Metrics\n",
      "AUROC = 0.9812\n"
     ]
    }
   ],
   "source": [
    "y_predict_LogReg = clf.predict(X_test_norm)\n",
    "# Setting the number of decimals based on the samples\n",
    "decimal_points = np.int64(np.floor(np.log10(len(y_test))))\n",
    "    \n",
    "print('Confusion Matrix:')\n",
    "print(confusion_matrix(y_test, y_predict_LogReg), '\\n\\n')\n",
    "    \n",
    "print('Classification report:')\n",
    "print(classification_report(y_test, y_predict_LogReg, digits=decimal_points))\n",
    "    \n",
    "print('Scalar Metrics')\n",
    "string_format = '%%s = %%.%if' % decimal_points\n",
    "if y_test.nunique() <= 2: #binary classification \n",
    "    try:\n",
    "        y_score1 = clf.predict_proba(X_test_norm)[:,1]\n",
    "    except:\n",
    "        y_score1 = clf.decision_function(X_test_norm)\n",
    "    print(string_format % ('AUROC', roc_auc_score(y_test, y_score1)))"
   ]
  },
  {
   "cell_type": "code",
   "execution_count": 45,
   "metadata": {},
   "outputs": [
    {
     "data": {
      "text/plain": [
       "Text(0.5, 1.0, 'Confusion Matrix')"
      ]
     },
     "execution_count": 45,
     "metadata": {},
     "output_type": "execute_result"
    },
    {
     "data": {
      "image/png": "[encoded data removed]",
      "text/plain": [
       "<Figure size 1440x504 with 2 Axes>"
      ]
     },
     "metadata": {
      "needs_background": "light"
     },
     "output_type": "display_data"
    }
   ],
   "source": [
    "# Plot confusion matrix\n",
    "skplt.metrics.plot_confusion_matrix(y_test, y_predict_LogReg)\n",
    "plt.xlabel('Predictions', fontsize=16)\n",
    "plt.ylabel('Actuals', fontsize=16)\n",
    "plt.title('Confusion Matrix', fontsize=16)"
   ]
  },
  {
   "cell_type": "code",
   "execution_count": 46,
   "metadata": {},
   "outputs": [
    {
     "data": {
      "text/plain": [
       "0.02971116252462259"
      ]
     },
     "execution_count": 46,
     "metadata": {},
     "output_type": "execute_result"
    }
   ],
   "source": [
    "log_loss(y_test, y_predict_LogReg)"
   ]
  },
  {
   "cell_type": "markdown",
   "metadata": {},
   "source": [
    "#### Random Forest Model Evaluation"
   ]
  },
  {
   "cell_type": "code",
   "execution_count": 47,
   "metadata": {},
   "outputs": [],
   "source": [
    "pipeline_randomforest = Pipeline([\n",
    "    ('model', RandomForestClassifier(n_jobs=-1, random_state=1))\n",
    "])"
   ]
  },
  {
   "cell_type": "markdown",
   "metadata": {},
   "source": [
    "Specifying the number of estimator since the more time taken to process the large dataset."
   ]
  },
  {
   "cell_type": "code",
   "execution_count": 48,
   "metadata": {},
   "outputs": [],
   "source": [
    "rf_grid = GridSearchCV(estimator=pipeline_randomforest, param_grid={'model__n_estimators': [70]}, scoring='roc_auc', n_jobs=-1, \n",
    "                       pre_dispatch='2*n_jobs', verbose=1, return_train_score=False)"
   ]
  },
  {
   "cell_type": "code",
   "execution_count": 49,
   "metadata": {
    "scrolled": true
   },
   "outputs": [
    {
     "name": "stdout",
     "output_type": "stream",
     "text": [
      "Fitting 5 folds for each of 1 candidates, totalling 5 fits\n"
     ]
    },
    {
     "name": "stderr",
     "output_type": "stream",
     "text": [
      "[Parallel(n_jobs=-1)]: Using backend LokyBackend with 4 concurrent workers.\n",
      "[Parallel(n_jobs=-1)]: Done   5 out of   5 | elapsed:  5.9min finished\n"
     ]
    },
    {
     "data": {
      "text/plain": [
       "GridSearchCV(estimator=Pipeline(steps=[('model',\n",
       "                                        RandomForestClassifier(n_jobs=-1,\n",
       "                                                               random_state=1))]),\n",
       "             n_jobs=-1, param_grid={'model__n_estimators': [70]},\n",
       "             scoring='roc_auc', verbose=1)"
      ]
     },
     "execution_count": 49,
     "metadata": {},
     "output_type": "execute_result"
    }
   ],
   "source": [
    "rf_grid.fit(X_train_norm, y_train)"
   ]
  },
  {
   "cell_type": "code",
   "execution_count": 50,
   "metadata": {
    "scrolled": true
   },
   "outputs": [
    {
     "data": {
      "text/html": [
       "<div>\n",
       "<style scoped>\n",
       "    .dataframe tbody tr th:only-of-type {\n",
       "        vertical-align: middle;\n",
       "    }\n",
       "\n",
       "    .dataframe tbody tr th {\n",
       "        vertical-align: top;\n",
       "    }\n",
       "\n",
       "    .dataframe thead th {\n",
       "        text-align: right;\n",
       "    }\n",
       "</style>\n",
       "<table border=\"1\" class=\"dataframe\">\n",
       "  <thead>\n",
       "    <tr style=\"text-align: right;\">\n",
       "      <th></th>\n",
       "      <th>mean_fit_time</th>\n",
       "      <th>std_fit_time</th>\n",
       "      <th>mean_score_time</th>\n",
       "      <th>std_score_time</th>\n",
       "      <th>param_model__n_estimators</th>\n",
       "      <th>params</th>\n",
       "      <th>split0_test_score</th>\n",
       "      <th>split1_test_score</th>\n",
       "      <th>split2_test_score</th>\n",
       "      <th>split3_test_score</th>\n",
       "      <th>split4_test_score</th>\n",
       "      <th>mean_test_score</th>\n",
       "      <th>std_test_score</th>\n",
       "      <th>rank_test_score</th>\n",
       "    </tr>\n",
       "  </thead>\n",
       "  <tbody>\n",
       "    <tr>\n",
       "      <th>0</th>\n",
       "      <td>237.899665</td>\n",
       "      <td>88.558148</td>\n",
       "      <td>0.963446</td>\n",
       "      <td>0.487291</td>\n",
       "      <td>70</td>\n",
       "      <td>{'model__n_estimators': 70}</td>\n",
       "      <td>0.953721</td>\n",
       "      <td>0.947984</td>\n",
       "      <td>0.922739</td>\n",
       "      <td>0.96081</td>\n",
       "      <td>0.94822</td>\n",
       "      <td>0.946695</td>\n",
       "      <td>0.012857</td>\n",
       "      <td>1</td>\n",
       "    </tr>\n",
       "  </tbody>\n",
       "</table>\n",
       "</div>"
      ],
      "text/plain": [
       "   mean_fit_time  std_fit_time  mean_score_time  std_score_time  \\\n",
       "0     237.899665     88.558148         0.963446        0.487291   \n",
       "\n",
       "  param_model__n_estimators                       params  split0_test_score  \\\n",
       "0                        70  {'model__n_estimators': 70}           0.953721   \n",
       "\n",
       "   split1_test_score  split2_test_score  split3_test_score  split4_test_score  \\\n",
       "0           0.947984           0.922739            0.96081            0.94822   \n",
       "\n",
       "   mean_test_score  std_test_score  rank_test_score  \n",
       "0         0.946695        0.012857                1  "
      ]
     },
     "execution_count": 50,
     "metadata": {},
     "output_type": "execute_result"
    }
   ],
   "source": [
    "pd.DataFrame(rf_grid.cv_results_)"
   ]
  },
  {
   "cell_type": "code",
   "execution_count": 51,
   "metadata": {},
   "outputs": [
    {
     "name": "stdout",
     "output_type": "stream",
     "text": [
      "Best estimator: Pipeline(steps=[('model',\n",
      "                 RandomForestClassifier(n_estimators=70, n_jobs=-1,\n",
      "                                        random_state=1))])\n",
      "Best Params: {'model__n_estimators': 70}\n",
      "Best classifier score: 0.9466948848959305\n"
     ]
    }
   ],
   "source": [
    "print(\"Best estimator:\",rf_grid.best_estimator_)\n",
    "print(\"Best Params:\",rf_grid.best_params_)\n",
    "print(\"Best classifier score:\",rf_grid.best_score_)"
   ]
  },
  {
   "cell_type": "markdown",
   "metadata": {},
   "source": [
    "#### Test Random Forest model"
   ]
  },
  {
   "cell_type": "code",
   "execution_count": 52,
   "metadata": {},
   "outputs": [
    {
     "name": "stdout",
     "output_type": "stream",
     "text": [
      "Confusion Matrix\n",
      "[[56862     2]\n",
      " [   21    77]] \n",
      "\n",
      "\n",
      "Classification report\n",
      "              precision    recall  f1-score   support\n",
      "\n",
      "           0     0.9996    1.0000    0.9998     56864\n",
      "           1     0.9747    0.7857    0.8701        98\n",
      "\n",
      "    accuracy                         0.9996     56962\n",
      "   macro avg     0.9872    0.8928    0.9349     56962\n",
      "weighted avg     0.9996    0.9996    0.9996     56962\n",
      "\n",
      "\n",
      " Scalar Metrics\n",
      "AUROC = 0.9583\n"
     ]
    }
   ],
   "source": [
    "y_predict_RandomForest = rf_grid.predict(X_test_norm)\n",
    "# Setting the number of decimals based on the samples\n",
    "decimal_points = np.int64(np.floor(np.log10(len(y_test))))\n",
    "    \n",
    "print('Confusion Matrix')\n",
    "print(confusion_matrix(y_test, y_predict_RandomForest), '\\n\\n')\n",
    "    \n",
    "print('Classification report')\n",
    "print(classification_report(y_test, y_predict_RandomForest, digits=decimal_points))\n",
    "    \n",
    "print('\\n Scalar Metrics')\n",
    "string_format = '%%s = %%.%if' % decimal_points\n",
    "if y_test.nunique() <= 2: #binary classification \n",
    "    try:\n",
    "        y_score = rf_grid.predict_proba(X_test_norm)[:,1]\n",
    "    except:\n",
    "        y_score = rf_grid.decision_function(X_test_norm)\n",
    "    print(string_format % ('AUROC', roc_auc_score(y_test, y_score)))"
   ]
  },
  {
   "cell_type": "code",
   "execution_count": 53,
   "metadata": {},
   "outputs": [
    {
     "data": {
      "text/plain": [
       "Text(0.5, 1.0, 'Confusion Matrix')"
      ]
     },
     "execution_count": 53,
     "metadata": {},
     "output_type": "execute_result"
    },
    {
     "data": {
      "image/png": "[encoded data removed]",
      "text/plain": [
       "<Figure size 576x576 with 2 Axes>"
      ]
     },
     "metadata": {
      "needs_background": "light"
     },
     "output_type": "display_data"
    }
   ],
   "source": [
    "# Plot confusion matrix\n",
    "skplt.metrics.plot_confusion_matrix(y_test, y_predict_RandomForest, figsize=(8, 8))\n",
    "plt.xlabel('Predictions', fontsize=16)\n",
    "plt.ylabel('Actuals', fontsize=16)\n",
    "plt.title('Confusion Matrix', fontsize=16)"
   ]
  },
  {
   "cell_type": "code",
   "execution_count": 54,
   "metadata": {},
   "outputs": [
    {
     "data": {
      "text/plain": [
       "0.013946024652888992"
      ]
     },
     "execution_count": 54,
     "metadata": {},
     "output_type": "execute_result"
    }
   ],
   "source": [
    "log_loss(y_test, y_predict_RandomForest)"
   ]
  },
  {
   "cell_type": "markdown",
   "metadata": {},
   "source": [
    "The AUC-ROC (Area Under the Curve – Receiver Operating Characteristic) curve is a performance measurement for the classification problems at various thresholds. Area under the Curve is one of the good metrics to evaluate the score of classifiers. It validated the method identifies if the transaction is a risk or not. Cross validation ROC-AUC scores are identified for different models. The Random Forest classifier score is 95.14. The model is evaluated using the test dataset and AUROC is 95.83 The results can be evaluated by confusion matrix. The confusion matrix helps in identifying if the predictions were correct or not. With higher the values of confusion matrix in the diagonal where predictions are right the better would be the model.\n",
    "\n",
    "As outlined in the abstract the credit card fraud is one of the issues where financial institutions have gone through many losses. These institutions must identify those fraud and minimize those loses. The AUROC metrics for Random Forest classifier is 95.83%. This will help in identifying the frauds. The log loss is helpful in identifying the better performance of the models in future datasets. The log loss is another metrics used and the score of 0.0139. This model can be used for predicting fraud transactions."
   ]
  },
  {
   "cell_type": "code",
   "execution_count": null,
   "metadata": {},
   "outputs": [],
   "source": []
  }
 ],
 "metadata": {
  "kernelspec": {
   "display_name": "Python 3",
   "language": "python",
   "name": "python3"
  },
  "language_info": {
   "codemirror_mode": {
    "name": "ipython",
    "version": 3
   },
   "file_extension": ".py",
   "mimetype": "text/x-python",
   "name": "python",
   "nbconvert_exporter": "python",
   "pygments_lexer": "ipython3",
   "version": "3.8.3"
  }
 },
 "nbformat": 4,
 "nbformat_minor": 4
}
